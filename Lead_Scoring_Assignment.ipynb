{
 "cells": [
  {
   "cell_type": "markdown",
   "id": "c143969c",
   "metadata": {},
   "source": [
    "# LEAD SCORING CASE STUDY"
   ]
  },
  {
   "cell_type": "markdown",
   "id": "a05c6d31",
   "metadata": {},
   "source": [
    "## PROBLEM STATEMENT \n",
    "\n",
    "X Education has appointed you to help them select the most promising leads, i.e. the leads that are most likely to convert into paying customers. The company requires you to build a model wherein you need to assign a lead score to each of the leads such that the customers with higher lead score have a higher conversion chance and the customers with lower lead score have a lower conversion chance."
   ]
  },
  {
   "cell_type": "markdown",
   "id": "214f5ae3",
   "metadata": {},
   "source": [
    "## APPROACH ANALYSIS \n",
    "\n",
    "1. Reading and Understanding the data\n",
    "2. Inspecting Dataframe\n",
    "3. Missing Value Treatment\n",
    "4. Data Preparation\n",
    "5. EDA\n",
    "6. Convert Binary Categories\n",
    "7. Dummy Variable\n",
    "8. Train- Test Split\n",
    "9. Model Building\n",
    "10. Model Evaluation : Train Dataset\n",
    "11. Model Evaluation : Test Dataset\n",
    "12. Conclusion\n"
   ]
  },
  {
   "cell_type": "markdown",
   "id": "1902f49a",
   "metadata": {},
   "source": [
    "## Step 1 : Reading and Understanding the data"
   ]
  },
  {
   "cell_type": "code",
   "execution_count": 75,
   "id": "49a3c838",
   "metadata": {},
   "outputs": [],
   "source": [
    "# Supress Warnings\n",
    "import warnings \n",
    "warnings.filterwarnings('ignore')"
   ]
  },
  {
   "cell_type": "code",
   "execution_count": 76,
   "id": "cc098221",
   "metadata": {},
   "outputs": [],
   "source": [
    "# Importing the required libraries\n",
    "import numpy as np\n",
    "import pandas as pd\n",
    "import matplotlib.pyplot as plt\n",
    "import matplotlib.style as style\n",
    "import seaborn as sns\n",
    "%matplotlib inline\n",
    "\n",
    "# Styling the plot\n",
    "style.use('ggplot')\n",
    "sns.set_style('whitegrid')\n",
    "\n",
    "import statsmodels.api as sm\n",
    "from statsmodels.stats.outliers_influence import variance_inflation_factor\n",
    "\n",
    "import sklearn\n",
    "from sklearn.model_selection import train_test_split\n",
    "from sklearn.preprocessing import StandardScaler\n",
    "from sklearn.linear_model import LogisticRegression\n",
    "from sklearn.feature_selection import RFE\n",
    "from sklearn.metrics import confusion_matrix\n",
    "from sklearn.metrics import precision_recall_curve\n",
    "from sklearn import metrics\n",
    "from sklearn.metrics import precision_score, recall_score"
   ]
  },
  {
   "cell_type": "code",
   "execution_count": 77,
   "id": "c71806f6",
   "metadata": {},
   "outputs": [
    {
     "data": {
      "text/html": [
       "<div>\n",
       "<style scoped>\n",
       "    .dataframe tbody tr th:only-of-type {\n",
       "        vertical-align: middle;\n",
       "    }\n",
       "\n",
       "    .dataframe tbody tr th {\n",
       "        vertical-align: top;\n",
       "    }\n",
       "\n",
       "    .dataframe thead th {\n",
       "        text-align: right;\n",
       "    }\n",
       "</style>\n",
       "<table border=\"1\" class=\"dataframe\">\n",
       "  <thead>\n",
       "    <tr style=\"text-align: right;\">\n",
       "      <th></th>\n",
       "      <th>Prospect ID</th>\n",
       "      <th>Lead Number</th>\n",
       "      <th>Lead Origin</th>\n",
       "      <th>Lead Source</th>\n",
       "      <th>Do Not Email</th>\n",
       "      <th>Do Not Call</th>\n",
       "      <th>Converted</th>\n",
       "      <th>TotalVisits</th>\n",
       "      <th>Total Time Spent on Website</th>\n",
       "      <th>Page Views Per Visit</th>\n",
       "      <th>...</th>\n",
       "      <th>Get updates on DM Content</th>\n",
       "      <th>Lead Profile</th>\n",
       "      <th>City</th>\n",
       "      <th>Asymmetrique Activity Index</th>\n",
       "      <th>Asymmetrique Profile Index</th>\n",
       "      <th>Asymmetrique Activity Score</th>\n",
       "      <th>Asymmetrique Profile Score</th>\n",
       "      <th>I agree to pay the amount through cheque</th>\n",
       "      <th>A free copy of Mastering The Interview</th>\n",
       "      <th>Last Notable Activity</th>\n",
       "    </tr>\n",
       "  </thead>\n",
       "  <tbody>\n",
       "    <tr>\n",
       "      <th>0</th>\n",
       "      <td>7927b2df-8bba-4d29-b9a2-b6e0beafe620</td>\n",
       "      <td>660737</td>\n",
       "      <td>API</td>\n",
       "      <td>Olark Chat</td>\n",
       "      <td>No</td>\n",
       "      <td>No</td>\n",
       "      <td>0</td>\n",
       "      <td>0.0</td>\n",
       "      <td>0</td>\n",
       "      <td>0.0</td>\n",
       "      <td>...</td>\n",
       "      <td>No</td>\n",
       "      <td>Select</td>\n",
       "      <td>Select</td>\n",
       "      <td>02.Medium</td>\n",
       "      <td>02.Medium</td>\n",
       "      <td>15.0</td>\n",
       "      <td>15.0</td>\n",
       "      <td>No</td>\n",
       "      <td>No</td>\n",
       "      <td>Modified</td>\n",
       "    </tr>\n",
       "    <tr>\n",
       "      <th>1</th>\n",
       "      <td>2a272436-5132-4136-86fa-dcc88c88f482</td>\n",
       "      <td>660728</td>\n",
       "      <td>API</td>\n",
       "      <td>Organic Search</td>\n",
       "      <td>No</td>\n",
       "      <td>No</td>\n",
       "      <td>0</td>\n",
       "      <td>5.0</td>\n",
       "      <td>674</td>\n",
       "      <td>2.5</td>\n",
       "      <td>...</td>\n",
       "      <td>No</td>\n",
       "      <td>Select</td>\n",
       "      <td>Select</td>\n",
       "      <td>02.Medium</td>\n",
       "      <td>02.Medium</td>\n",
       "      <td>15.0</td>\n",
       "      <td>15.0</td>\n",
       "      <td>No</td>\n",
       "      <td>No</td>\n",
       "      <td>Email Opened</td>\n",
       "    </tr>\n",
       "    <tr>\n",
       "      <th>2</th>\n",
       "      <td>8cc8c611-a219-4f35-ad23-fdfd2656bd8a</td>\n",
       "      <td>660727</td>\n",
       "      <td>Landing Page Submission</td>\n",
       "      <td>Direct Traffic</td>\n",
       "      <td>No</td>\n",
       "      <td>No</td>\n",
       "      <td>1</td>\n",
       "      <td>2.0</td>\n",
       "      <td>1532</td>\n",
       "      <td>2.0</td>\n",
       "      <td>...</td>\n",
       "      <td>No</td>\n",
       "      <td>Potential Lead</td>\n",
       "      <td>Mumbai</td>\n",
       "      <td>02.Medium</td>\n",
       "      <td>01.High</td>\n",
       "      <td>14.0</td>\n",
       "      <td>20.0</td>\n",
       "      <td>No</td>\n",
       "      <td>Yes</td>\n",
       "      <td>Email Opened</td>\n",
       "    </tr>\n",
       "    <tr>\n",
       "      <th>3</th>\n",
       "      <td>0cc2df48-7cf4-4e39-9de9-19797f9b38cc</td>\n",
       "      <td>660719</td>\n",
       "      <td>Landing Page Submission</td>\n",
       "      <td>Direct Traffic</td>\n",
       "      <td>No</td>\n",
       "      <td>No</td>\n",
       "      <td>0</td>\n",
       "      <td>1.0</td>\n",
       "      <td>305</td>\n",
       "      <td>1.0</td>\n",
       "      <td>...</td>\n",
       "      <td>No</td>\n",
       "      <td>Select</td>\n",
       "      <td>Mumbai</td>\n",
       "      <td>02.Medium</td>\n",
       "      <td>01.High</td>\n",
       "      <td>13.0</td>\n",
       "      <td>17.0</td>\n",
       "      <td>No</td>\n",
       "      <td>No</td>\n",
       "      <td>Modified</td>\n",
       "    </tr>\n",
       "    <tr>\n",
       "      <th>4</th>\n",
       "      <td>3256f628-e534-4826-9d63-4a8b88782852</td>\n",
       "      <td>660681</td>\n",
       "      <td>Landing Page Submission</td>\n",
       "      <td>Google</td>\n",
       "      <td>No</td>\n",
       "      <td>No</td>\n",
       "      <td>1</td>\n",
       "      <td>2.0</td>\n",
       "      <td>1428</td>\n",
       "      <td>1.0</td>\n",
       "      <td>...</td>\n",
       "      <td>No</td>\n",
       "      <td>Select</td>\n",
       "      <td>Mumbai</td>\n",
       "      <td>02.Medium</td>\n",
       "      <td>01.High</td>\n",
       "      <td>15.0</td>\n",
       "      <td>18.0</td>\n",
       "      <td>No</td>\n",
       "      <td>No</td>\n",
       "      <td>Modified</td>\n",
       "    </tr>\n",
       "  </tbody>\n",
       "</table>\n",
       "<p>5 rows × 37 columns</p>\n",
       "</div>"
      ],
      "text/plain": [
       "                            Prospect ID  Lead Number              Lead Origin  \\\n",
       "0  7927b2df-8bba-4d29-b9a2-b6e0beafe620       660737                      API   \n",
       "1  2a272436-5132-4136-86fa-dcc88c88f482       660728                      API   \n",
       "2  8cc8c611-a219-4f35-ad23-fdfd2656bd8a       660727  Landing Page Submission   \n",
       "3  0cc2df48-7cf4-4e39-9de9-19797f9b38cc       660719  Landing Page Submission   \n",
       "4  3256f628-e534-4826-9d63-4a8b88782852       660681  Landing Page Submission   \n",
       "\n",
       "      Lead Source Do Not Email Do Not Call  Converted  TotalVisits  \\\n",
       "0      Olark Chat           No          No          0          0.0   \n",
       "1  Organic Search           No          No          0          5.0   \n",
       "2  Direct Traffic           No          No          1          2.0   \n",
       "3  Direct Traffic           No          No          0          1.0   \n",
       "4          Google           No          No          1          2.0   \n",
       "\n",
       "   Total Time Spent on Website  Page Views Per Visit  ...  \\\n",
       "0                            0                   0.0  ...   \n",
       "1                          674                   2.5  ...   \n",
       "2                         1532                   2.0  ...   \n",
       "3                          305                   1.0  ...   \n",
       "4                         1428                   1.0  ...   \n",
       "\n",
       "  Get updates on DM Content    Lead Profile    City  \\\n",
       "0                        No          Select  Select   \n",
       "1                        No          Select  Select   \n",
       "2                        No  Potential Lead  Mumbai   \n",
       "3                        No          Select  Mumbai   \n",
       "4                        No          Select  Mumbai   \n",
       "\n",
       "  Asymmetrique Activity Index Asymmetrique Profile Index  \\\n",
       "0                   02.Medium                  02.Medium   \n",
       "1                   02.Medium                  02.Medium   \n",
       "2                   02.Medium                    01.High   \n",
       "3                   02.Medium                    01.High   \n",
       "4                   02.Medium                    01.High   \n",
       "\n",
       "  Asymmetrique Activity Score Asymmetrique Profile Score  \\\n",
       "0                        15.0                       15.0   \n",
       "1                        15.0                       15.0   \n",
       "2                        14.0                       20.0   \n",
       "3                        13.0                       17.0   \n",
       "4                        15.0                       18.0   \n",
       "\n",
       "  I agree to pay the amount through cheque  \\\n",
       "0                                       No   \n",
       "1                                       No   \n",
       "2                                       No   \n",
       "3                                       No   \n",
       "4                                       No   \n",
       "\n",
       "  A free copy of Mastering The Interview Last Notable Activity  \n",
       "0                                     No              Modified  \n",
       "1                                     No          Email Opened  \n",
       "2                                    Yes          Email Opened  \n",
       "3                                     No              Modified  \n",
       "4                                     No              Modified  \n",
       "\n",
       "[5 rows x 37 columns]"
      ]
     },
     "execution_count": 77,
     "metadata": {},
     "output_type": "execute_result"
    }
   ],
   "source": [
    "# Importing the dataset\n",
    "lead = pd.read_csv(\"Leads.csv\") \n",
    "lead.head()"
   ]
  },
  {
   "cell_type": "markdown",
   "id": "aa4a2300",
   "metadata": {},
   "source": [
    "## Step 2 : Inspecting Dataframe"
   ]
  },
  {
   "cell_type": "code",
   "execution_count": 78,
   "id": "2ad2fc15",
   "metadata": {},
   "outputs": [
    {
     "data": {
      "text/plain": [
       "(9240, 37)"
      ]
     },
     "execution_count": 78,
     "metadata": {},
     "output_type": "execute_result"
    }
   ],
   "source": [
    "# Let's check the dimensions of the dataframe\n",
    "lead.shape"
   ]
  },
  {
   "cell_type": "code",
   "execution_count": 79,
   "id": "7c12329d",
   "metadata": {},
   "outputs": [
    {
     "name": "stdout",
     "output_type": "stream",
     "text": [
      "<class 'pandas.core.frame.DataFrame'>\n",
      "RangeIndex: 9240 entries, 0 to 9239\n",
      "Data columns (total 37 columns):\n",
      " #   Column                                         Non-Null Count  Dtype  \n",
      "---  ------                                         --------------  -----  \n",
      " 0   Prospect ID                                    9240 non-null   object \n",
      " 1   Lead Number                                    9240 non-null   int64  \n",
      " 2   Lead Origin                                    9240 non-null   object \n",
      " 3   Lead Source                                    9204 non-null   object \n",
      " 4   Do Not Email                                   9240 non-null   object \n",
      " 5   Do Not Call                                    9240 non-null   object \n",
      " 6   Converted                                      9240 non-null   int64  \n",
      " 7   TotalVisits                                    9103 non-null   float64\n",
      " 8   Total Time Spent on Website                    9240 non-null   int64  \n",
      " 9   Page Views Per Visit                           9103 non-null   float64\n",
      " 10  Last Activity                                  9137 non-null   object \n",
      " 11  Country                                        6779 non-null   object \n",
      " 12  Specialization                                 7802 non-null   object \n",
      " 13  How did you hear about X Education             7033 non-null   object \n",
      " 14  What is your current occupation                6550 non-null   object \n",
      " 15  What matters most to you in choosing a course  6531 non-null   object \n",
      " 16  Search                                         9240 non-null   object \n",
      " 17  Magazine                                       9240 non-null   object \n",
      " 18  Newspaper Article                              9240 non-null   object \n",
      " 19  X Education Forums                             9240 non-null   object \n",
      " 20  Newspaper                                      9240 non-null   object \n",
      " 21  Digital Advertisement                          9240 non-null   object \n",
      " 22  Through Recommendations                        9240 non-null   object \n",
      " 23  Receive More Updates About Our Courses         9240 non-null   object \n",
      " 24  Tags                                           5887 non-null   object \n",
      " 25  Lead Quality                                   4473 non-null   object \n",
      " 26  Update me on Supply Chain Content              9240 non-null   object \n",
      " 27  Get updates on DM Content                      9240 non-null   object \n",
      " 28  Lead Profile                                   6531 non-null   object \n",
      " 29  City                                           7820 non-null   object \n",
      " 30  Asymmetrique Activity Index                    5022 non-null   object \n",
      " 31  Asymmetrique Profile Index                     5022 non-null   object \n",
      " 32  Asymmetrique Activity Score                    5022 non-null   float64\n",
      " 33  Asymmetrique Profile Score                     5022 non-null   float64\n",
      " 34  I agree to pay the amount through cheque       9240 non-null   object \n",
      " 35  A free copy of Mastering The Interview         9240 non-null   object \n",
      " 36  Last Notable Activity                          9240 non-null   object \n",
      "dtypes: float64(4), int64(3), object(30)\n",
      "memory usage: 2.6+ MB\n"
     ]
    }
   ],
   "source": [
    "# No. of null records and datatype in lead dataframe\n",
    "lead.info()"
   ]
  },
  {
   "cell_type": "code",
   "execution_count": 80,
   "id": "c82a4df5",
   "metadata": {},
   "outputs": [
    {
     "data": {
      "text/html": [
       "<div>\n",
       "<style scoped>\n",
       "    .dataframe tbody tr th:only-of-type {\n",
       "        vertical-align: middle;\n",
       "    }\n",
       "\n",
       "    .dataframe tbody tr th {\n",
       "        vertical-align: top;\n",
       "    }\n",
       "\n",
       "    .dataframe thead th {\n",
       "        text-align: right;\n",
       "    }\n",
       "</style>\n",
       "<table border=\"1\" class=\"dataframe\">\n",
       "  <thead>\n",
       "    <tr style=\"text-align: right;\">\n",
       "      <th></th>\n",
       "      <th>Lead Number</th>\n",
       "      <th>Converted</th>\n",
       "      <th>TotalVisits</th>\n",
       "      <th>Total Time Spent on Website</th>\n",
       "      <th>Page Views Per Visit</th>\n",
       "      <th>Asymmetrique Activity Score</th>\n",
       "      <th>Asymmetrique Profile Score</th>\n",
       "    </tr>\n",
       "  </thead>\n",
       "  <tbody>\n",
       "    <tr>\n",
       "      <th>count</th>\n",
       "      <td>9240.000000</td>\n",
       "      <td>9240.000000</td>\n",
       "      <td>9103.000000</td>\n",
       "      <td>9240.000000</td>\n",
       "      <td>9103.000000</td>\n",
       "      <td>5022.000000</td>\n",
       "      <td>5022.000000</td>\n",
       "    </tr>\n",
       "    <tr>\n",
       "      <th>mean</th>\n",
       "      <td>617188.435606</td>\n",
       "      <td>0.385390</td>\n",
       "      <td>3.445238</td>\n",
       "      <td>487.698268</td>\n",
       "      <td>2.362820</td>\n",
       "      <td>14.306252</td>\n",
       "      <td>16.344883</td>\n",
       "    </tr>\n",
       "    <tr>\n",
       "      <th>std</th>\n",
       "      <td>23405.995698</td>\n",
       "      <td>0.486714</td>\n",
       "      <td>4.854853</td>\n",
       "      <td>548.021466</td>\n",
       "      <td>2.161418</td>\n",
       "      <td>1.386694</td>\n",
       "      <td>1.811395</td>\n",
       "    </tr>\n",
       "    <tr>\n",
       "      <th>min</th>\n",
       "      <td>579533.000000</td>\n",
       "      <td>0.000000</td>\n",
       "      <td>0.000000</td>\n",
       "      <td>0.000000</td>\n",
       "      <td>0.000000</td>\n",
       "      <td>7.000000</td>\n",
       "      <td>11.000000</td>\n",
       "    </tr>\n",
       "    <tr>\n",
       "      <th>25%</th>\n",
       "      <td>596484.500000</td>\n",
       "      <td>0.000000</td>\n",
       "      <td>1.000000</td>\n",
       "      <td>12.000000</td>\n",
       "      <td>1.000000</td>\n",
       "      <td>14.000000</td>\n",
       "      <td>15.000000</td>\n",
       "    </tr>\n",
       "    <tr>\n",
       "      <th>50%</th>\n",
       "      <td>615479.000000</td>\n",
       "      <td>0.000000</td>\n",
       "      <td>3.000000</td>\n",
       "      <td>248.000000</td>\n",
       "      <td>2.000000</td>\n",
       "      <td>14.000000</td>\n",
       "      <td>16.000000</td>\n",
       "    </tr>\n",
       "    <tr>\n",
       "      <th>75%</th>\n",
       "      <td>637387.250000</td>\n",
       "      <td>1.000000</td>\n",
       "      <td>5.000000</td>\n",
       "      <td>936.000000</td>\n",
       "      <td>3.000000</td>\n",
       "      <td>15.000000</td>\n",
       "      <td>18.000000</td>\n",
       "    </tr>\n",
       "    <tr>\n",
       "      <th>max</th>\n",
       "      <td>660737.000000</td>\n",
       "      <td>1.000000</td>\n",
       "      <td>251.000000</td>\n",
       "      <td>2272.000000</td>\n",
       "      <td>55.000000</td>\n",
       "      <td>18.000000</td>\n",
       "      <td>20.000000</td>\n",
       "    </tr>\n",
       "  </tbody>\n",
       "</table>\n",
       "</div>"
      ],
      "text/plain": [
       "         Lead Number    Converted  TotalVisits  Total Time Spent on Website  \\\n",
       "count    9240.000000  9240.000000  9103.000000                  9240.000000   \n",
       "mean   617188.435606     0.385390     3.445238                   487.698268   \n",
       "std     23405.995698     0.486714     4.854853                   548.021466   \n",
       "min    579533.000000     0.000000     0.000000                     0.000000   \n",
       "25%    596484.500000     0.000000     1.000000                    12.000000   \n",
       "50%    615479.000000     0.000000     3.000000                   248.000000   \n",
       "75%    637387.250000     1.000000     5.000000                   936.000000   \n",
       "max    660737.000000     1.000000   251.000000                  2272.000000   \n",
       "\n",
       "       Page Views Per Visit  Asymmetrique Activity Score  \\\n",
       "count           9103.000000                  5022.000000   \n",
       "mean               2.362820                    14.306252   \n",
       "std                2.161418                     1.386694   \n",
       "min                0.000000                     7.000000   \n",
       "25%                1.000000                    14.000000   \n",
       "50%                2.000000                    14.000000   \n",
       "75%                3.000000                    15.000000   \n",
       "max               55.000000                    18.000000   \n",
       "\n",
       "       Asymmetrique Profile Score  \n",
       "count                 5022.000000  \n",
       "mean                    16.344883  \n",
       "std                      1.811395  \n",
       "min                     11.000000  \n",
       "25%                     15.000000  \n",
       "50%                     16.000000  \n",
       "75%                     18.000000  \n",
       "max                     20.000000  "
      ]
     },
     "execution_count": 80,
     "metadata": {},
     "output_type": "execute_result"
    }
   ],
   "source": [
    "# Let's look at the statistical aspects of the dataframe\n",
    "lead.describe()"
   ]
  },
  {
   "cell_type": "markdown",
   "id": "20fa2d60",
   "metadata": {},
   "source": [
    "## Step 3: Missing Value Treatment"
   ]
  },
  {
   "cell_type": "markdown",
   "id": "83a920ec",
   "metadata": {},
   "source": [
    "#### There are quite a few columns which have 'Select' as one of the categories. This is because the person has not filled that field. We will replace this field with NaN value"
   ]
  },
  {
   "cell_type": "code",
   "execution_count": 81,
   "id": "f68e785a",
   "metadata": {},
   "outputs": [],
   "source": [
    "lead = lead.replace('Select', np.nan)"
   ]
  },
  {
   "cell_type": "code",
   "execution_count": 82,
   "id": "35e946d8",
   "metadata": {},
   "outputs": [
    {
     "data": {
      "text/html": [
       "<div>\n",
       "<style scoped>\n",
       "    .dataframe tbody tr th:only-of-type {\n",
       "        vertical-align: middle;\n",
       "    }\n",
       "\n",
       "    .dataframe tbody tr th {\n",
       "        vertical-align: top;\n",
       "    }\n",
       "\n",
       "    .dataframe thead th {\n",
       "        text-align: right;\n",
       "    }\n",
       "</style>\n",
       "<table border=\"1\" class=\"dataframe\">\n",
       "  <thead>\n",
       "    <tr style=\"text-align: right;\">\n",
       "      <th></th>\n",
       "      <th>CATEGORY</th>\n",
       "      <th>PERCENTAGE</th>\n",
       "    </tr>\n",
       "  </thead>\n",
       "  <tbody>\n",
       "    <tr>\n",
       "      <th>6</th>\n",
       "      <td>How did you hear about X Education</td>\n",
       "      <td>78.463203</td>\n",
       "    </tr>\n",
       "    <tr>\n",
       "      <th>11</th>\n",
       "      <td>Lead Profile</td>\n",
       "      <td>74.188312</td>\n",
       "    </tr>\n",
       "    <tr>\n",
       "      <th>10</th>\n",
       "      <td>Lead Quality</td>\n",
       "      <td>51.590909</td>\n",
       "    </tr>\n",
       "    <tr>\n",
       "      <th>16</th>\n",
       "      <td>Asymmetrique Profile Score</td>\n",
       "      <td>45.649351</td>\n",
       "    </tr>\n",
       "    <tr>\n",
       "      <th>15</th>\n",
       "      <td>Asymmetrique Activity Score</td>\n",
       "      <td>45.649351</td>\n",
       "    </tr>\n",
       "    <tr>\n",
       "      <th>14</th>\n",
       "      <td>Asymmetrique Profile Index</td>\n",
       "      <td>45.649351</td>\n",
       "    </tr>\n",
       "    <tr>\n",
       "      <th>13</th>\n",
       "      <td>Asymmetrique Activity Index</td>\n",
       "      <td>45.649351</td>\n",
       "    </tr>\n",
       "    <tr>\n",
       "      <th>12</th>\n",
       "      <td>City</td>\n",
       "      <td>39.707792</td>\n",
       "    </tr>\n",
       "    <tr>\n",
       "      <th>5</th>\n",
       "      <td>Specialization</td>\n",
       "      <td>36.580087</td>\n",
       "    </tr>\n",
       "    <tr>\n",
       "      <th>9</th>\n",
       "      <td>Tags</td>\n",
       "      <td>36.287879</td>\n",
       "    </tr>\n",
       "    <tr>\n",
       "      <th>8</th>\n",
       "      <td>What matters most to you in choosing a course</td>\n",
       "      <td>29.318182</td>\n",
       "    </tr>\n",
       "    <tr>\n",
       "      <th>7</th>\n",
       "      <td>What is your current occupation</td>\n",
       "      <td>29.112554</td>\n",
       "    </tr>\n",
       "    <tr>\n",
       "      <th>4</th>\n",
       "      <td>Country</td>\n",
       "      <td>26.634199</td>\n",
       "    </tr>\n",
       "    <tr>\n",
       "      <th>1</th>\n",
       "      <td>TotalVisits</td>\n",
       "      <td>1.482684</td>\n",
       "    </tr>\n",
       "    <tr>\n",
       "      <th>2</th>\n",
       "      <td>Page Views Per Visit</td>\n",
       "      <td>1.482684</td>\n",
       "    </tr>\n",
       "    <tr>\n",
       "      <th>3</th>\n",
       "      <td>Last Activity</td>\n",
       "      <td>1.114719</td>\n",
       "    </tr>\n",
       "    <tr>\n",
       "      <th>0</th>\n",
       "      <td>Lead Source</td>\n",
       "      <td>0.38961</td>\n",
       "    </tr>\n",
       "  </tbody>\n",
       "</table>\n",
       "</div>"
      ],
      "text/plain": [
       "                                         CATEGORY PERCENTAGE\n",
       "6              How did you hear about X Education  78.463203\n",
       "11                                   Lead Profile  74.188312\n",
       "10                                   Lead Quality  51.590909\n",
       "16                     Asymmetrique Profile Score  45.649351\n",
       "15                    Asymmetrique Activity Score  45.649351\n",
       "14                     Asymmetrique Profile Index  45.649351\n",
       "13                    Asymmetrique Activity Index  45.649351\n",
       "12                                           City  39.707792\n",
       "5                                  Specialization  36.580087\n",
       "9                                            Tags  36.287879\n",
       "8   What matters most to you in choosing a course  29.318182\n",
       "7                 What is your current occupation  29.112554\n",
       "4                                         Country  26.634199\n",
       "1                                     TotalVisits   1.482684\n",
       "2                            Page Views Per Visit   1.482684\n",
       "3                                   Last Activity   1.114719\n",
       "0                                     Lead Source    0.38961"
      ]
     },
     "execution_count": 82,
     "metadata": {},
     "output_type": "execute_result"
    }
   ],
   "source": [
    "# Checking percentage of missing values in each column of lead dataframe :\n",
    "\n",
    "def missingdata_percentage(lead):\n",
    "    missing = pd.DataFrame(columns=['CATEGORY','PERCENTAGE'])\n",
    "    for col in lead.columns:\n",
    "        if lead[col].isna().values.any():\n",
    "            PERCENTAGE = 100*lead[col].isna().sum()/lead.shape[0]\n",
    "            missing = missing.append({'CATEGORY': col, 'PERCENTAGE':PERCENTAGE}, ignore_index=True)\n",
    "    return missing\n",
    "\n",
    "missingdata = missingdata_percentage(lead)\n",
    "missingdata.sort_values('PERCENTAGE', ascending=False)"
   ]
  },
  {
   "cell_type": "code",
   "execution_count": 83,
   "id": "38475282",
   "metadata": {},
   "outputs": [],
   "source": [
    "# Removing the missing values with more than 35%\n",
    "cols = lead.columns\n",
    "\n",
    "for i in cols:\n",
    "    if((100*lead[i].isnull().sum()/len(lead.index)) >= 35):\n",
    "        lead.drop(i, axis = 1, inplace = True)"
   ]
  },
  {
   "cell_type": "code",
   "execution_count": 84,
   "id": "d602df6d",
   "metadata": {},
   "outputs": [
    {
     "data": {
      "text/html": [
       "<div>\n",
       "<style scoped>\n",
       "    .dataframe tbody tr th:only-of-type {\n",
       "        vertical-align: middle;\n",
       "    }\n",
       "\n",
       "    .dataframe tbody tr th {\n",
       "        vertical-align: top;\n",
       "    }\n",
       "\n",
       "    .dataframe thead th {\n",
       "        text-align: right;\n",
       "    }\n",
       "</style>\n",
       "<table border=\"1\" class=\"dataframe\">\n",
       "  <thead>\n",
       "    <tr style=\"text-align: right;\">\n",
       "      <th></th>\n",
       "      <th>CATEGORY</th>\n",
       "      <th>PERCENTAGE</th>\n",
       "    </tr>\n",
       "  </thead>\n",
       "  <tbody>\n",
       "    <tr>\n",
       "      <th>6</th>\n",
       "      <td>What matters most to you in choosing a course</td>\n",
       "      <td>29.318182</td>\n",
       "    </tr>\n",
       "    <tr>\n",
       "      <th>5</th>\n",
       "      <td>What is your current occupation</td>\n",
       "      <td>29.112554</td>\n",
       "    </tr>\n",
       "    <tr>\n",
       "      <th>4</th>\n",
       "      <td>Country</td>\n",
       "      <td>26.634199</td>\n",
       "    </tr>\n",
       "    <tr>\n",
       "      <th>1</th>\n",
       "      <td>TotalVisits</td>\n",
       "      <td>1.482684</td>\n",
       "    </tr>\n",
       "    <tr>\n",
       "      <th>2</th>\n",
       "      <td>Page Views Per Visit</td>\n",
       "      <td>1.482684</td>\n",
       "    </tr>\n",
       "    <tr>\n",
       "      <th>3</th>\n",
       "      <td>Last Activity</td>\n",
       "      <td>1.114719</td>\n",
       "    </tr>\n",
       "    <tr>\n",
       "      <th>0</th>\n",
       "      <td>Lead Source</td>\n",
       "      <td>0.38961</td>\n",
       "    </tr>\n",
       "  </tbody>\n",
       "</table>\n",
       "</div>"
      ],
      "text/plain": [
       "                                        CATEGORY PERCENTAGE\n",
       "6  What matters most to you in choosing a course  29.318182\n",
       "5                What is your current occupation  29.112554\n",
       "4                                        Country  26.634199\n",
       "1                                    TotalVisits   1.482684\n",
       "2                           Page Views Per Visit   1.482684\n",
       "3                                  Last Activity   1.114719\n",
       "0                                    Lead Source    0.38961"
      ]
     },
     "execution_count": 84,
     "metadata": {},
     "output_type": "execute_result"
    }
   ],
   "source": [
    "# Checking percentage of missing values in each column of lead dataframe :\n",
    "\n",
    "def missingdata_percentage(lead):\n",
    "    missing = pd.DataFrame(columns=['CATEGORY','PERCENTAGE'])\n",
    "    for col in lead.columns:\n",
    "        if lead[col].isna().values.any():\n",
    "            PERCENTAGE = 100*lead[col].isna().sum()/lead.shape[0]\n",
    "            missing = missing.append({'CATEGORY': col, 'PERCENTAGE':PERCENTAGE}, ignore_index=True)\n",
    "    return missing\n",
    "\n",
    "missingdata = missingdata_percentage(lead)\n",
    "missingdata.sort_values('PERCENTAGE', ascending=False)"
   ]
  },
  {
   "cell_type": "markdown",
   "id": "be9530e9",
   "metadata": {},
   "source": [
    "## Step 4: Data Preparation"
   ]
  },
  {
   "cell_type": "markdown",
   "id": "1cc749f1",
   "metadata": {},
   "source": [
    "#### Analyzing the Variables one-by-one"
   ]
  },
  {
   "cell_type": "markdown",
   "id": "4fcda3fd",
   "metadata": {},
   "source": [
    "#### 1. What matters most to you in choosing a course"
   ]
  },
  {
   "cell_type": "code",
   "execution_count": 85,
   "id": "38996fe2",
   "metadata": {},
   "outputs": [
    {
     "data": {
      "text/plain": [
       "Better Career Prospects      99.954065\n",
       "Flexibility & Convenience     0.030623\n",
       "Other                         0.015312\n",
       "Name: What matters most to you in choosing a course, dtype: float64"
      ]
     },
     "execution_count": 85,
     "metadata": {},
     "output_type": "execute_result"
    }
   ],
   "source": [
    "# Data distributed of 'What matters most to you in choosing a course'\n",
    "lead['What matters most to you in choosing a course'].value_counts(normalize = True)*100"
   ]
  },
  {
   "cell_type": "code",
   "execution_count": 86,
   "id": "1f6ade9c",
   "metadata": {},
   "outputs": [
    {
     "data": {
      "text/plain": [
       "26"
      ]
     },
     "execution_count": 86,
     "metadata": {},
     "output_type": "execute_result"
    }
   ],
   "source": [
    "# What matters most to you in choosing a course is skewed, we can delete the column.\n",
    "lead.drop('What matters most to you in choosing a course', axis = 1, inplace=True)\n",
    "len(lead.columns)"
   ]
  },
  {
   "cell_type": "markdown",
   "id": "88badf5e",
   "metadata": {},
   "source": [
    "#### 2. What is your current occupation"
   ]
  },
  {
   "cell_type": "code",
   "execution_count": 87,
   "id": "4bfdd1f9",
   "metadata": {},
   "outputs": [
    {
     "data": {
      "text/plain": [
       "Unemployed              85.496183\n",
       "Working Professional    10.778626\n",
       "Student                  3.206107\n",
       "Other                    0.244275\n",
       "Housewife                0.152672\n",
       "Businessman              0.122137\n",
       "Name: What is your current occupation, dtype: float64"
      ]
     },
     "execution_count": 87,
     "metadata": {},
     "output_type": "execute_result"
    }
   ],
   "source": [
    "# Data distributed of 'What is your current occupation'\n",
    "lead['What is your current occupation'].value_counts(normalize=True)*100"
   ]
  },
  {
   "cell_type": "code",
   "execution_count": 88,
   "id": "e970c016",
   "metadata": {},
   "outputs": [
    {
     "data": {
      "text/plain": [
       "Unemployed              60.606061\n",
       "Unknown                 29.112554\n",
       "Working Professional     7.640693\n",
       "Student                  2.272727\n",
       "Other                    0.173160\n",
       "Housewife                0.108225\n",
       "Businessman              0.086580\n",
       "Name: What is your current occupation, dtype: float64"
      ]
     },
     "execution_count": 88,
     "metadata": {},
     "output_type": "execute_result"
    }
   ],
   "source": [
    "# 85.5% values are \"Unemployed\". If we impute the data as \"Unemployed\" then data will become more skewed. Thus, we will impute the nan values as \"Unknown\".\n",
    "lead['What is your current occupation'] = lead['What is your current occupation'].replace(np.nan, 'Unknown')\n",
    "lead['What is your current occupation'].value_counts(normalize = True)*100"
   ]
  },
  {
   "cell_type": "markdown",
   "id": "e567a38c",
   "metadata": {},
   "source": [
    "#### 3. Country"
   ]
  },
  {
   "cell_type": "code",
   "execution_count": 89,
   "id": "ff227e00",
   "metadata": {},
   "outputs": [
    {
     "data": {
      "text/plain": [
       "India                   0.957663\n",
       "United States           0.010178\n",
       "United Arab Emirates    0.007818\n",
       "Singapore               0.003540\n",
       "Saudi Arabia            0.003098\n",
       "United Kingdom          0.002213\n",
       "Australia               0.001918\n",
       "Qatar                   0.001475\n",
       "Hong Kong               0.001033\n",
       "Bahrain                 0.001033\n",
       "Oman                    0.000885\n",
       "France                  0.000885\n",
       "unknown                 0.000738\n",
       "South Africa            0.000590\n",
       "Nigeria                 0.000590\n",
       "Germany                 0.000590\n",
       "Kuwait                  0.000590\n",
       "Canada                  0.000590\n",
       "Sweden                  0.000443\n",
       "China                   0.000295\n",
       "Asia/Pacific Region     0.000295\n",
       "Uganda                  0.000295\n",
       "Bangladesh              0.000295\n",
       "Italy                   0.000295\n",
       "Belgium                 0.000295\n",
       "Netherlands             0.000295\n",
       "Ghana                   0.000295\n",
       "Philippines             0.000295\n",
       "Russia                  0.000148\n",
       "Switzerland             0.000148\n",
       "Vietnam                 0.000148\n",
       "Denmark                 0.000148\n",
       "Tanzania                0.000148\n",
       "Liberia                 0.000148\n",
       "Malaysia                0.000148\n",
       "Kenya                   0.000148\n",
       "Sri Lanka               0.000148\n",
       "Indonesia               0.000148\n",
       "Name: Country, dtype: float64"
      ]
     },
     "execution_count": 89,
     "metadata": {},
     "output_type": "execute_result"
    }
   ],
   "source": [
    "#Let's check how is the Country data distributed\n",
    "lead['Country'].value_counts(normalize=True)"
   ]
  },
  {
   "cell_type": "markdown",
   "id": "2a07e084",
   "metadata": {},
   "source": [
    "#### Country data is heavily skewed as 95% of the data is of India. Similar to City, Country data is not required for Model building as X-Education is an online platform. Hence we will drop this column"
   ]
  },
  {
   "cell_type": "code",
   "execution_count": 90,
   "id": "47328a83",
   "metadata": {},
   "outputs": [
    {
     "data": {
      "text/plain": [
       "25"
      ]
     },
     "execution_count": 90,
     "metadata": {},
     "output_type": "execute_result"
    }
   ],
   "source": [
    "lead.drop('Country', axis = 1, inplace = True)\n",
    "len(lead.columns)"
   ]
  },
  {
   "cell_type": "markdown",
   "id": "6048f97d",
   "metadata": {},
   "source": [
    "#### 4. Total Visits"
   ]
  },
  {
   "cell_type": "code",
   "execution_count": 91,
   "id": "5b91f4ef",
   "metadata": {},
   "outputs": [
    {
     "data": {
      "image/png": "[encoded data removed]",
      "text/plain": [
       "<Figure size 864x432 with 2 Axes>"
      ]
     },
     "metadata": {},
     "output_type": "display_data"
    }
   ],
   "source": [
    "plt.figure(figsize = (12,6))\n",
    "plt.subplot(1,2,1)\n",
    "sns.distplot(lead['TotalVisits'])\n",
    "plt.subplot(1,2,2)\n",
    "sns.boxplot(lead['TotalVisits'])\n",
    "plt.show()"
   ]
  },
  {
   "cell_type": "code",
   "execution_count": 92,
   "id": "3cacb919",
   "metadata": {},
   "outputs": [
    {
     "data": {
      "text/plain": [
       "0"
      ]
     },
     "execution_count": 92,
     "metadata": {},
     "output_type": "execute_result"
    }
   ],
   "source": [
    "# As we see there are some outliers in the data, we will impute with median and not mean value.\n",
    "lead['TotalVisits'].fillna(lead['TotalVisits'].median(), inplace=True)\n",
    "lead['TotalVisits'].isnull().sum()"
   ]
  },
  {
   "cell_type": "markdown",
   "id": "131e86c7",
   "metadata": {},
   "source": [
    "#### 5. Page Views Per Visit"
   ]
  },
  {
   "cell_type": "code",
   "execution_count": 93,
   "id": "ab91457f",
   "metadata": {},
   "outputs": [
    {
     "data": {
      "image/png": "[encoded data removed]",
      "text/plain": [
       "<Figure size 864x432 with 2 Axes>"
      ]
     },
     "metadata": {},
     "output_type": "display_data"
    }
   ],
   "source": [
    "plt.figure(figsize = (12,6))\n",
    "plt.subplot(1,2,1)\n",
    "sns.distplot(lead['Page Views Per Visit'])\n",
    "plt.subplot(1,2,2)\n",
    "sns.boxplot(lead['Page Views Per Visit'])\n",
    "plt.show()"
   ]
  },
  {
   "cell_type": "code",
   "execution_count": 94,
   "id": "f694ac84",
   "metadata": {},
   "outputs": [
    {
     "data": {
      "text/plain": [
       "0"
      ]
     },
     "execution_count": 94,
     "metadata": {},
     "output_type": "execute_result"
    }
   ],
   "source": [
    "# As we see there are some outliers in the data, we will impute with median and not mean value.\n",
    "lead['Page Views Per Visit'].fillna(lead['Page Views Per Visit'].median(), inplace=True)\n",
    "lead['Page Views Per Visit'].isnull().sum()"
   ]
  },
  {
   "cell_type": "markdown",
   "id": "7f1ee615",
   "metadata": {},
   "source": [
    "#### 6. Last Activity"
   ]
  },
  {
   "cell_type": "code",
   "execution_count": 95,
   "id": "7ebb0fba",
   "metadata": {},
   "outputs": [
    {
     "data": {
      "text/plain": [
       "Email Opened                    37.616285\n",
       "SMS Sent                        30.042684\n",
       "Olark Chat Conversation         10.649010\n",
       "Page Visited on Website          7.004487\n",
       "Converted to Lead                4.684251\n",
       "Email Bounced                    3.567911\n",
       "Email Link Clicked               2.922185\n",
       "Form Submitted on Website        1.269563\n",
       "Unreachable                      1.017840\n",
       "Unsubscribed                     0.667615\n",
       "Had a Phone Conversation         0.328335\n",
       "Approached upfront               0.098501\n",
       "View in browser link Clicked     0.065667\n",
       "Email Received                   0.021889\n",
       "Email Marked Spam                0.021889\n",
       "Visited Booth in Tradeshow       0.010945\n",
       "Resubscribed to emails           0.010945\n",
       "Name: Last Activity, dtype: float64"
      ]
     },
     "execution_count": 95,
     "metadata": {},
     "output_type": "execute_result"
    }
   ],
   "source": [
    "# Data distributed of Last Activity\n",
    "lead['Last Activity'].value_counts(normalize = True)*100"
   ]
  },
  {
   "cell_type": "code",
   "execution_count": 96,
   "id": "0ff8cb84",
   "metadata": {},
   "outputs": [
    {
     "name": "stdout",
     "output_type": "stream",
     "text": [
      "Number of null values in Last Activity column is :  0\n"
     ]
    }
   ],
   "source": [
    "# We will impute the nan values with the mode here , by 'Email Opened'.\n",
    "lead['Last Activity'] = lead['Last Activity'].replace(np.nan, 'Email Opened')\n",
    "print(\"Number of null values in Last Activity column is : \", lead['Last Activity'].isnull().sum())"
   ]
  },
  {
   "cell_type": "markdown",
   "id": "49e01e3f",
   "metadata": {},
   "source": [
    "#### 7. Lead Source"
   ]
  },
  {
   "cell_type": "code",
   "execution_count": 97,
   "id": "5f299a37",
   "metadata": {},
   "outputs": [
    {
     "data": {
      "text/plain": [
       "Google               31.160365\n",
       "Direct Traffic       27.629292\n",
       "Olark Chat           19.067797\n",
       "Organic Search       12.538027\n",
       "Reference             5.801825\n",
       "Welingak Website      1.542807\n",
       "Referral Sites        1.358105\n",
       "Facebook              0.597566\n",
       "bing                  0.065189\n",
       "google                0.054324\n",
       "Click2call            0.043459\n",
       "Press_Release         0.021730\n",
       "Social Media          0.021730\n",
       "Live Chat             0.021730\n",
       "youtubechannel        0.010865\n",
       "testone               0.010865\n",
       "Pay per Click Ads     0.010865\n",
       "welearnblog_Home      0.010865\n",
       "WeLearn               0.010865\n",
       "blog                  0.010865\n",
       "NC_EDM                0.010865\n",
       "Name: Lead Source, dtype: float64"
      ]
     },
     "execution_count": 97,
     "metadata": {},
     "output_type": "execute_result"
    }
   ],
   "source": [
    "# Data distributed of Lead Source\n",
    "\n",
    "lead['Lead Source'].value_counts(normalize = True)*100"
   ]
  },
  {
   "cell_type": "code",
   "execution_count": 98,
   "id": "21ce20ba",
   "metadata": {},
   "outputs": [
    {
     "name": "stdout",
     "output_type": "stream",
     "text": [
      "Number of null values in Lead Source column is :  0\n"
     ]
    }
   ],
   "source": [
    "# We will replace the nan values with 'Google' here.\n",
    "lead['Lead Source'] = lead['Lead Source'].replace(np.nan, 'Google')\n",
    "lead['Lead Source'] = lead['Lead Source'].replace('google', 'Google')\n",
    "print(\"Number of null values in Lead Source column is : \", lead['Lead Source'].isnull().sum())"
   ]
  },
  {
   "cell_type": "markdown",
   "id": "6734f69f",
   "metadata": {},
   "source": [
    "## Step 5: EDA\n"
   ]
  },
  {
   "cell_type": "code",
   "execution_count": 99,
   "id": "730b9e21",
   "metadata": {},
   "outputs": [
    {
     "data": {
      "text/plain": [
       "Receive More Updates About Our Courses         1\n",
       "I agree to pay the amount through cheque       1\n",
       "Get updates on DM Content                      1\n",
       "Magazine                                       1\n",
       "Update me on Supply Chain Content              1\n",
       "Newspaper Article                              2\n",
       "A free copy of Mastering The Interview         2\n",
       "Digital Advertisement                          2\n",
       "Through Recommendations                        2\n",
       "Search                                         2\n",
       "Converted                                      2\n",
       "Do Not Call                                    2\n",
       "Do Not Email                                   2\n",
       "X Education Forums                             2\n",
       "Newspaper                                      2\n",
       "Lead Origin                                    5\n",
       "What is your current occupation                7\n",
       "Last Notable Activity                         16\n",
       "Last Activity                                 17\n",
       "Lead Source                                   20\n",
       "TotalVisits                                   41\n",
       "Page Views Per Visit                         114\n",
       "Total Time Spent on Website                 1731\n",
       "Lead Number                                 9240\n",
       "Prospect ID                                 9240\n",
       "dtype: int64"
      ]
     },
     "execution_count": 99,
     "metadata": {},
     "output_type": "execute_result"
    }
   ],
   "source": [
    "# Checking the unique value counts for categorcial columns\n",
    "lead.nunique().sort_values()"
   ]
  },
  {
   "cell_type": "markdown",
   "id": "7c737174",
   "metadata": {},
   "source": [
    "### Categorical Attributes Analysis:"
   ]
  },
  {
   "cell_type": "markdown",
   "id": "d6ce89cf",
   "metadata": {},
   "source": [
    "#### Imbalanced Variables"
   ]
  },
  {
   "cell_type": "code",
   "execution_count": 100,
   "id": "670126ae",
   "metadata": {},
   "outputs": [
    {
     "data": {
      "image/png": "[encoded data removed]",
      "text/plain": [
       "<Figure size 1440x864 with 12 Axes>"
      ]
     },
     "metadata": {},
     "output_type": "display_data"
    }
   ],
   "source": [
    "# Visualzing  variables for imbalancing\n",
    "fig, axs = plt.subplots(3,4,figsize = (20,12))\n",
    "sns.countplot(x = \"Search\", hue = \"Converted\", data = lead, ax = axs[0,0],palette = 'Set2')\n",
    "sns.countplot(x = \"Magazine\", hue = \"Converted\", data = lead, ax = axs[0,1],palette = 'Set2')\n",
    "sns.countplot(x = \"Newspaper Article\", hue = \"Converted\", data = lead, ax = axs[0,2],palette = 'Set2')\n",
    "sns.countplot(x = \"X Education Forums\", hue = \"Converted\", data = lead, ax = axs[0,3],palette = 'Set2')\n",
    "sns.countplot(x = \"Newspaper\", hue = \"Converted\", data = lead, ax = axs[1,0],palette = 'Set2')\n",
    "sns.countplot(x = \"Digital Advertisement\", hue = \"Converted\", data = lead, ax = axs[1,1],palette = 'Set2')\n",
    "sns.countplot(x = \"Through Recommendations\", hue = \"Converted\", data = lead, ax = axs[1,2],palette = 'Set2')\n",
    "sns.countplot(x = \"Receive More Updates About Our Courses\", hue = \"Converted\", data = lead, ax = axs[1,3],palette = 'Set2')\n",
    "sns.countplot(x = \"Update me on Supply Chain Content\", hue = \"Converted\", data =lead, ax = axs[2,0],palette = 'Set2')\n",
    "sns.countplot(x = \"Get updates on DM Content\", hue = \"Converted\", data = lead, ax = axs[2,1],palette = 'Set2')\n",
    "sns.countplot(x = \"I agree to pay the amount through cheque\", hue = \"Converted\", data = lead, ax = axs[2,2],palette = 'Set2')\n",
    "sns.countplot(x = \"A free copy of Mastering The Interview\", hue = \"Converted\", data = lead, ax = axs[2,3],palette = 'Set2')\n",
    "plt.show()"
   ]
  },
  {
   "cell_type": "markdown",
   "id": "4bedc6b9",
   "metadata": {},
   "source": [
    "#### Inference\n",
    "\n",
    "For all these columns except 'A free copy of Mastering The Interview' data is highly imbalanced, thus we will drop them\n",
    "\"A free copy of Mastering The Interview\" is a redundant variable so we will include this also in list of dropping columns."
   ]
  },
  {
   "cell_type": "code",
   "execution_count": 101,
   "id": "7b7940a5",
   "metadata": {},
   "outputs": [],
   "source": [
    "#creating a list of columns to be dropped\n",
    "\n",
    "cols_to_drop=(['Search','Magazine','Newspaper Article','X Education Forums','Newspaper',\n",
    "                 'Digital Advertisement','Through Recommendations','Receive More Updates About Our Courses',\n",
    "                 'Update me on Supply Chain Content',\n",
    "                 'Get updates on DM Content','I agree to pay the amount through cheque','A free copy of Mastering The Interview'])"
   ]
  },
  {
   "cell_type": "markdown",
   "id": "528a6ce7",
   "metadata": {},
   "source": [
    "#### 1. Lead Source"
   ]
  },
  {
   "cell_type": "code",
   "execution_count": 102,
   "id": "fa849a97",
   "metadata": {},
   "outputs": [
    {
     "data": {
      "text/plain": [
       "Google               2909\n",
       "Direct Traffic       2543\n",
       "Olark Chat           1755\n",
       "Organic Search       1154\n",
       "Reference             534\n",
       "Welingak Website      142\n",
       "Referral Sites        125\n",
       "Facebook               55\n",
       "bing                    6\n",
       "Click2call              4\n",
       "Social Media            2\n",
       "Live Chat               2\n",
       "Press_Release           2\n",
       "Pay per Click Ads       1\n",
       "blog                    1\n",
       "WeLearn                 1\n",
       "welearnblog_Home        1\n",
       "youtubechannel          1\n",
       "testone                 1\n",
       "NC_EDM                  1\n",
       "Name: Lead Source, dtype: int64"
      ]
     },
     "execution_count": 102,
     "metadata": {},
     "output_type": "execute_result"
    }
   ],
   "source": [
    "#checking value counts of Lead Source column\n",
    "\n",
    "lead['Lead Source'].value_counts(dropna=False)"
   ]
  },
  {
   "cell_type": "code",
   "execution_count": 103,
   "id": "67b0a676",
   "metadata": {},
   "outputs": [],
   "source": [
    "#combining low frequency values to Others\n",
    "\n",
    "lead['Lead Source'] = lead['Lead Source'].replace(['bing','Click2call','Press_Release',\n",
    "                                                     'youtubechannel','welearnblog_Home',\n",
    "                                                     'WeLearn','blog','Pay per Click Ads',\n",
    "                                                    'testone','NC_EDM','Live Chat','Social Media'] ,'Others')"
   ]
  },
  {
   "cell_type": "code",
   "execution_count": 104,
   "id": "943b8fa2",
   "metadata": {},
   "outputs": [
    {
     "data": {
      "image/png": "[encoded data removed]",
      "text/plain": [
       "<Figure size 1080x360 with 1 Axes>"
      ]
     },
     "metadata": {},
     "output_type": "display_data"
    }
   ],
   "source": [
    "#visualizing count of Lead Source Variable based on Converted value\n",
    "plt.figure(figsize=(15,5))\n",
    "s1=sns.countplot(x= 'Lead Source', hue='Converted' , data =lead , palette = 'Set2')\n",
    "s1.set_xticklabels(s1.get_xticklabels(),rotation=45)\n",
    "plt.show()"
   ]
  },
  {
   "cell_type": "markdown",
   "id": "7af19dc9",
   "metadata": {},
   "source": [
    "#### Inference\n",
    "\n",
    "Maximum Leads are generated by Google and Direct Traffic.\n",
    "\n",
    "Conversion rate of Reference leads and Welinkgak Website leads is very high."
   ]
  },
  {
   "cell_type": "markdown",
   "id": "9e93bd78",
   "metadata": {},
   "source": [
    "#### 2. What is your current occupation"
   ]
  },
  {
   "cell_type": "code",
   "execution_count": 105,
   "id": "1c519ddc",
   "metadata": {},
   "outputs": [
    {
     "data": {
      "text/plain": [
       "Unemployed              5600\n",
       "Unknown                 2690\n",
       "Working Professional     706\n",
       "Student                  210\n",
       "Other                     16\n",
       "Housewife                 10\n",
       "Businessman                8\n",
       "Name: What is your current occupation, dtype: int64"
      ]
     },
     "execution_count": 105,
     "metadata": {},
     "output_type": "execute_result"
    }
   ],
   "source": [
    "#checking value counts of 'What is your current occupation' column\n",
    "lead['What is your current occupation'].value_counts(dropna=False)"
   ]
  },
  {
   "cell_type": "code",
   "execution_count": 106,
   "id": "f02053d4",
   "metadata": {},
   "outputs": [
    {
     "data": {
      "image/png": "[encoded data removed]",
      "text/plain": [
       "<Figure size 432x288 with 1 Axes>"
      ]
     },
     "metadata": {},
     "output_type": "display_data"
    }
   ],
   "source": [
    "#visualizing count of Variable based on Converted value\n",
    "\n",
    "s1=sns.countplot(x='What is your current occupation', hue='Converted' , data = lead , palette = 'Set2')\n",
    "s1.set_xticklabels(s1.get_xticklabels(),rotation=45)\n",
    "plt.show()"
   ]
  },
  {
   "cell_type": "markdown",
   "id": "8ed424ea",
   "metadata": {},
   "source": [
    "#### Inference\n",
    "\n",
    "Maximum leads generated are unemployed and their conversion rate is more than 50%.\n",
    "\n",
    "Conversion rate of working professionals is very high."
   ]
  },
  {
   "cell_type": "markdown",
   "id": "05a9b6af",
   "metadata": {},
   "source": [
    "#### 3. Last Activity"
   ]
  },
  {
   "cell_type": "code",
   "execution_count": 107,
   "id": "b9acf043",
   "metadata": {},
   "outputs": [
    {
     "data": {
      "text/plain": [
       "Email Opened                    3540\n",
       "SMS Sent                        2745\n",
       "Olark Chat Conversation          973\n",
       "Page Visited on Website          640\n",
       "Converted to Lead                428\n",
       "Email Bounced                    326\n",
       "Email Link Clicked               267\n",
       "Form Submitted on Website        116\n",
       "Unreachable                       93\n",
       "Unsubscribed                      61\n",
       "Had a Phone Conversation          30\n",
       "Approached upfront                 9\n",
       "View in browser link Clicked       6\n",
       "Email Received                     2\n",
       "Email Marked Spam                  2\n",
       "Visited Booth in Tradeshow         1\n",
       "Resubscribed to emails             1\n",
       "Name: Last Activity, dtype: int64"
      ]
     },
     "execution_count": 107,
     "metadata": {},
     "output_type": "execute_result"
    }
   ],
   "source": [
    "# checking value counts of Last Activity\n",
    "lead['Last Activity'].value_counts(dropna=False)"
   ]
  },
  {
   "cell_type": "code",
   "execution_count": 108,
   "id": "87e4b124",
   "metadata": {},
   "outputs": [],
   "source": [
    "#combining low frequency values\n",
    "lead['Last Activity'] = lead['Last Activity'].replace([ 'Approached upfront',\n",
    "                                                        'View in browser link Clicked',       \n",
    "                                                        'Email Marked Spam',                  \n",
    "                                                        'Email Received','Resubscribed to emails',\n",
    "                                                         'Visited Booth in Tradeshow'],'Others')"
   ]
  },
  {
   "cell_type": "code",
   "execution_count": 109,
   "id": "b028a367",
   "metadata": {},
   "outputs": [
    {
     "data": {
      "image/png": "[encoded data removed]",
      "text/plain": [
       "<Figure size 1080x360 with 1 Axes>"
      ]
     },
     "metadata": {},
     "output_type": "display_data"
    }
   ],
   "source": [
    "#visualizing count of Last Activity Variable \n",
    "\n",
    "plt.figure(figsize=(15,5))\n",
    "s1=sns.countplot(x='Last Activity', hue='Converted' , data = lead , palette = 'Set2')\n",
    "s1.set_xticklabels(s1.get_xticklabels(),rotation=90)\n",
    "plt.show()"
   ]
  },
  {
   "cell_type": "markdown",
   "id": "f3c4e592",
   "metadata": {},
   "source": [
    "#### Inference\n",
    "\n",
    "Maximum leads are generated having last activity as Email opened but conversion rate is not too good.\n",
    "\n",
    "SMS sent as last acitivity has high conversion rate. "
   ]
  },
  {
   "cell_type": "code",
   "execution_count": 110,
   "id": "ba374d51",
   "metadata": {},
   "outputs": [
    {
     "data": {
      "text/plain": [
       "['Search',\n",
       " 'Magazine',\n",
       " 'Newspaper Article',\n",
       " 'X Education Forums',\n",
       " 'Newspaper',\n",
       " 'Digital Advertisement',\n",
       " 'Through Recommendations',\n",
       " 'Receive More Updates About Our Courses',\n",
       " 'Update me on Supply Chain Content',\n",
       " 'Get updates on DM Content',\n",
       " 'I agree to pay the amount through cheque',\n",
       " 'A free copy of Mastering The Interview',\n",
       " 'Last Activity']"
      ]
     },
     "execution_count": 110,
     "metadata": {},
     "output_type": "execute_result"
    }
   ],
   "source": [
    "# Append 'Last Activity' to the cols_to_drop List it is a X-education's sales team generated data\n",
    "cols_to_drop.append('Last Activity')\n",
    "\n",
    "#checking updated list for columns to be dropped\n",
    "cols_to_drop"
   ]
  },
  {
   "cell_type": "markdown",
   "id": "76257976",
   "metadata": {},
   "source": [
    "#### 4. Lead Origin"
   ]
  },
  {
   "cell_type": "code",
   "execution_count": 111,
   "id": "dfec52cb",
   "metadata": {},
   "outputs": [
    {
     "data": {
      "image/png": "[encoded data removed]",
      "text/plain": [
       "<Figure size 432x288 with 1 Axes>"
      ]
     },
     "metadata": {},
     "output_type": "display_data"
    }
   ],
   "source": [
    "s1=sns.countplot(x='Lead Origin', hue='Converted' , data = lead , palette = 'Set2')\n",
    "s1.set_xticklabels(s1.get_xticklabels(),rotation=90)\n",
    "plt.show()"
   ]
  },
  {
   "cell_type": "markdown",
   "id": "1f590f74",
   "metadata": {},
   "source": [
    "#### Inference\n",
    "\n",
    "Maximum leads are generated through Landing Page Submission.\n",
    "\n",
    "Lead Add Form has high conversion rate. "
   ]
  },
  {
   "cell_type": "markdown",
   "id": "77e7eb52",
   "metadata": {},
   "source": [
    "#### 5. Do Not Email & Do Not Call"
   ]
  },
  {
   "cell_type": "code",
   "execution_count": 112,
   "id": "20ac4ce4",
   "metadata": {},
   "outputs": [
    {
     "data": {
      "image/png": "[encoded data removed]",
      "text/plain": [
       "<Figure size 1080x540 with 2 Axes>"
      ]
     },
     "metadata": {},
     "output_type": "display_data"
    }
   ],
   "source": [
    "fig, axs = plt.subplots(1,2,figsize = (15,7.5))\n",
    "sns.countplot(x = \"Do Not Email\", hue = \"Converted\", data = lead, ax = axs[0],palette = 'Set2')\n",
    "sns.countplot(x = \"Do Not Call\", hue = \"Converted\", data = lead, ax = axs[1],palette = 'Set2')\n",
    "plt.show()"
   ]
  },
  {
   "cell_type": "markdown",
   "id": "d0675003",
   "metadata": {},
   "source": [
    "#### Inference\n",
    "\n",
    "We Can append the Do Not Call Column to the list of Columns to be Dropped data is highly skewed"
   ]
  },
  {
   "cell_type": "code",
   "execution_count": 113,
   "id": "bf87f21c",
   "metadata": {},
   "outputs": [
    {
     "data": {
      "text/plain": [
       "['Search',\n",
       " 'Magazine',\n",
       " 'Newspaper Article',\n",
       " 'X Education Forums',\n",
       " 'Newspaper',\n",
       " 'Digital Advertisement',\n",
       " 'Through Recommendations',\n",
       " 'Receive More Updates About Our Courses',\n",
       " 'Update me on Supply Chain Content',\n",
       " 'Get updates on DM Content',\n",
       " 'I agree to pay the amount through cheque',\n",
       " 'A free copy of Mastering The Interview',\n",
       " 'Last Activity',\n",
       " 'Do Not Call']"
      ]
     },
     "execution_count": 113,
     "metadata": {},
     "output_type": "execute_result"
    }
   ],
   "source": [
    "# Append 'Do Not Call' to the cols_to_drop List\n",
    "cols_to_drop.append('Do Not Call')\n",
    "\n",
    "#checking updated list for columns to be dropped\n",
    "cols_to_drop"
   ]
  },
  {
   "cell_type": "markdown",
   "id": "a795a2a0",
   "metadata": {},
   "source": [
    "#### 6. Last Notable Activity"
   ]
  },
  {
   "cell_type": "code",
   "execution_count": 114,
   "id": "d722d790",
   "metadata": {},
   "outputs": [
    {
     "data": {
      "text/plain": [
       "Modified                        3407\n",
       "Email Opened                    2827\n",
       "SMS Sent                        2172\n",
       "Page Visited on Website          318\n",
       "Olark Chat Conversation          183\n",
       "Email Link Clicked               173\n",
       "Email Bounced                     60\n",
       "Unsubscribed                      47\n",
       "Unreachable                       32\n",
       "Had a Phone Conversation          14\n",
       "Email Marked Spam                  2\n",
       "Approached upfront                 1\n",
       "Resubscribed to emails             1\n",
       "View in browser link Clicked       1\n",
       "Form Submitted on Website          1\n",
       "Email Received                     1\n",
       "Name: Last Notable Activity, dtype: int64"
      ]
     },
     "execution_count": 114,
     "metadata": {},
     "output_type": "execute_result"
    }
   ],
   "source": [
    "#checking value counts of last Notable Activity\n",
    "lead['Last Notable Activity'].value_counts()"
   ]
  },
  {
   "cell_type": "code",
   "execution_count": 115,
   "id": "7d6626a9",
   "metadata": {},
   "outputs": [],
   "source": [
    "#clubbing lower frequency values\n",
    "\n",
    "lead['Last Notable Activity'] = lead['Last Notable Activity'].replace(['Email Marked Spam',                                                                    \n",
    "                                                                       'Resubscribed to emails',\n",
    "                                                                       'View in browser link Clicked',\n",
    "                                                                       'Approached upfront', \n",
    "                                                                       'Form Submitted on Website', \n",
    "                                                                       'Email Received'],'Others')"
   ]
  },
  {
   "cell_type": "code",
   "execution_count": 116,
   "id": "128e010b",
   "metadata": {},
   "outputs": [
    {
     "data": {
      "image/png": "[encoded data removed]",
      "text/plain": [
       "<Figure size 1008x360 with 1 Axes>"
      ]
     },
     "metadata": {},
     "output_type": "display_data"
    }
   ],
   "source": [
    "#visualizing count of Variable based on Converted value\n",
    "\n",
    "plt.figure(figsize = (14,5))\n",
    "ax1=sns.countplot(x = \"Last Notable Activity\", hue = \"Converted\", data = lead , palette = 'Set2')\n",
    "ax1.set_xticklabels(ax1.get_xticklabels(),rotation=90)\n",
    "plt.show()"
   ]
  },
  {
   "cell_type": "markdown",
   "id": "8bd6f91d",
   "metadata": {},
   "source": [
    "#### Inference\n",
    "\n",
    "Maximum leads are generated having last activity as Email opened but conversion rate is not too good.\n",
    "\n",
    "SMS sent as last acitivity has high conversion rate."
   ]
  },
  {
   "cell_type": "code",
   "execution_count": 117,
   "id": "28f53696",
   "metadata": {},
   "outputs": [
    {
     "data": {
      "text/plain": [
       "['Search',\n",
       " 'Magazine',\n",
       " 'Newspaper Article',\n",
       " 'X Education Forums',\n",
       " 'Newspaper',\n",
       " 'Digital Advertisement',\n",
       " 'Through Recommendations',\n",
       " 'Receive More Updates About Our Courses',\n",
       " 'Update me on Supply Chain Content',\n",
       " 'Get updates on DM Content',\n",
       " 'I agree to pay the amount through cheque',\n",
       " 'A free copy of Mastering The Interview',\n",
       " 'Last Activity',\n",
       " 'Do Not Call',\n",
       " 'Last Notable Activity']"
      ]
     },
     "execution_count": 117,
     "metadata": {},
     "output_type": "execute_result"
    }
   ],
   "source": [
    "# Append 'Last Notable Activity'to the cols_to_drop List as this is a sales team generated data\n",
    "cols_to_drop.append('Last Notable Activity')\n",
    "\n",
    "# checking final list of columns to be dropped\n",
    "cols_to_drop"
   ]
  },
  {
   "cell_type": "code",
   "execution_count": 118,
   "id": "622437e3",
   "metadata": {},
   "outputs": [
    {
     "data": {
      "text/plain": [
       "['Search',\n",
       " 'Magazine',\n",
       " 'Newspaper Article',\n",
       " 'X Education Forums',\n",
       " 'Newspaper',\n",
       " 'Digital Advertisement',\n",
       " 'Through Recommendations',\n",
       " 'Receive More Updates About Our Courses',\n",
       " 'Update me on Supply Chain Content',\n",
       " 'Get updates on DM Content',\n",
       " 'I agree to pay the amount through cheque',\n",
       " 'A free copy of Mastering The Interview',\n",
       " 'Last Activity',\n",
       " 'Do Not Call',\n",
       " 'Last Notable Activity',\n",
       " 'Prospect ID',\n",
       " 'Lead Number']"
      ]
     },
     "execution_count": 118,
     "metadata": {},
     "output_type": "execute_result"
    }
   ],
   "source": [
    "# Append 'Prospect ID' and 'Lead Number' to the cols_to_drop List as this is just a ID\n",
    "cols_to_drop.append('Prospect ID')\n",
    "\n",
    "cols_to_drop.append('Lead Number')\n",
    "\n",
    "# checking final list of columns to be dropped\n",
    "cols_to_drop"
   ]
  },
  {
   "cell_type": "code",
   "execution_count": 119,
   "id": "487f22a3",
   "metadata": {},
   "outputs": [
    {
     "name": "stdout",
     "output_type": "stream",
     "text": [
      "<class 'pandas.core.frame.DataFrame'>\n",
      "RangeIndex: 9240 entries, 0 to 9239\n",
      "Data columns (total 8 columns):\n",
      " #   Column                           Non-Null Count  Dtype  \n",
      "---  ------                           --------------  -----  \n",
      " 0   Lead Origin                      9240 non-null   object \n",
      " 1   Lead Source                      9240 non-null   object \n",
      " 2   Do Not Email                     9240 non-null   object \n",
      " 3   Converted                        9240 non-null   int64  \n",
      " 4   TotalVisits                      9240 non-null   float64\n",
      " 5   Total Time Spent on Website      9240 non-null   int64  \n",
      " 6   Page Views Per Visit             9240 non-null   float64\n",
      " 7   What is your current occupation  9240 non-null   object \n",
      "dtypes: float64(2), int64(2), object(4)\n",
      "memory usage: 577.6+ KB\n"
     ]
    }
   ],
   "source": [
    "#dropping columns\n",
    "lead = lead.drop(cols_to_drop,1)\n",
    "\n",
    "#checking info of dataset for remaining columns\n",
    "lead.info()"
   ]
  },
  {
   "cell_type": "code",
   "execution_count": 120,
   "id": "286b607e",
   "metadata": {},
   "outputs": [
    {
     "data": {
      "text/html": [
       "<div>\n",
       "<style scoped>\n",
       "    .dataframe tbody tr th:only-of-type {\n",
       "        vertical-align: middle;\n",
       "    }\n",
       "\n",
       "    .dataframe tbody tr th {\n",
       "        vertical-align: top;\n",
       "    }\n",
       "\n",
       "    .dataframe thead th {\n",
       "        text-align: right;\n",
       "    }\n",
       "</style>\n",
       "<table border=\"1\" class=\"dataframe\">\n",
       "  <thead>\n",
       "    <tr style=\"text-align: right;\">\n",
       "      <th></th>\n",
       "      <th>Lead Origin</th>\n",
       "      <th>Lead Source</th>\n",
       "      <th>Do Not Email</th>\n",
       "      <th>Converted</th>\n",
       "      <th>TotalVisits</th>\n",
       "      <th>Total Time Spent on Website</th>\n",
       "      <th>Page Views Per Visit</th>\n",
       "      <th>What is your current occupation</th>\n",
       "    </tr>\n",
       "  </thead>\n",
       "  <tbody>\n",
       "    <tr>\n",
       "      <th>0</th>\n",
       "      <td>API</td>\n",
       "      <td>Olark Chat</td>\n",
       "      <td>No</td>\n",
       "      <td>0</td>\n",
       "      <td>0.0</td>\n",
       "      <td>0</td>\n",
       "      <td>0.0</td>\n",
       "      <td>Unemployed</td>\n",
       "    </tr>\n",
       "    <tr>\n",
       "      <th>1</th>\n",
       "      <td>API</td>\n",
       "      <td>Organic Search</td>\n",
       "      <td>No</td>\n",
       "      <td>0</td>\n",
       "      <td>5.0</td>\n",
       "      <td>674</td>\n",
       "      <td>2.5</td>\n",
       "      <td>Unemployed</td>\n",
       "    </tr>\n",
       "    <tr>\n",
       "      <th>2</th>\n",
       "      <td>Landing Page Submission</td>\n",
       "      <td>Direct Traffic</td>\n",
       "      <td>No</td>\n",
       "      <td>1</td>\n",
       "      <td>2.0</td>\n",
       "      <td>1532</td>\n",
       "      <td>2.0</td>\n",
       "      <td>Student</td>\n",
       "    </tr>\n",
       "    <tr>\n",
       "      <th>3</th>\n",
       "      <td>Landing Page Submission</td>\n",
       "      <td>Direct Traffic</td>\n",
       "      <td>No</td>\n",
       "      <td>0</td>\n",
       "      <td>1.0</td>\n",
       "      <td>305</td>\n",
       "      <td>1.0</td>\n",
       "      <td>Unemployed</td>\n",
       "    </tr>\n",
       "    <tr>\n",
       "      <th>4</th>\n",
       "      <td>Landing Page Submission</td>\n",
       "      <td>Google</td>\n",
       "      <td>No</td>\n",
       "      <td>1</td>\n",
       "      <td>2.0</td>\n",
       "      <td>1428</td>\n",
       "      <td>1.0</td>\n",
       "      <td>Unemployed</td>\n",
       "    </tr>\n",
       "  </tbody>\n",
       "</table>\n",
       "</div>"
      ],
      "text/plain": [
       "               Lead Origin     Lead Source Do Not Email  Converted  \\\n",
       "0                      API      Olark Chat           No          0   \n",
       "1                      API  Organic Search           No          0   \n",
       "2  Landing Page Submission  Direct Traffic           No          1   \n",
       "3  Landing Page Submission  Direct Traffic           No          0   \n",
       "4  Landing Page Submission          Google           No          1   \n",
       "\n",
       "   TotalVisits  Total Time Spent on Website  Page Views Per Visit  \\\n",
       "0          0.0                            0                   0.0   \n",
       "1          5.0                          674                   2.5   \n",
       "2          2.0                         1532                   2.0   \n",
       "3          1.0                          305                   1.0   \n",
       "4          2.0                         1428                   1.0   \n",
       "\n",
       "  What is your current occupation  \n",
       "0                      Unemployed  \n",
       "1                      Unemployed  \n",
       "2                         Student  \n",
       "3                      Unemployed  \n",
       "4                      Unemployed  "
      ]
     },
     "execution_count": 120,
     "metadata": {},
     "output_type": "execute_result"
    }
   ],
   "source": [
    "#checking dataset\n",
    "lead.head()"
   ]
  },
  {
   "cell_type": "code",
   "execution_count": 121,
   "id": "67dbb80a",
   "metadata": {},
   "outputs": [
    {
     "data": {
      "text/plain": [
       "(9240, 8)"
      ]
     },
     "execution_count": 121,
     "metadata": {},
     "output_type": "execute_result"
    }
   ],
   "source": [
    "lead.shape"
   ]
  },
  {
   "cell_type": "markdown",
   "id": "25d12a16",
   "metadata": {},
   "source": [
    "### Numerical Attributes Analysis:"
   ]
  },
  {
   "cell_type": "code",
   "execution_count": 122,
   "id": "1669995f",
   "metadata": {},
   "outputs": [
    {
     "data": {
      "image/png": "[encoded data removed]",
      "text/plain": [
       "<Figure size 432x288 with 1 Axes>"
      ]
     },
     "metadata": {},
     "output_type": "display_data"
    }
   ],
   "source": [
    "#Converted is the target variable, Indicates whether a lead has been successfully converted (1) or not (0).\n",
    "#Visualizing Distribution of 'Converted' Variable\n",
    "sns.countplot(lead.Converted)\n",
    "plt.xlabel(\"Converted Status\")\n",
    "plt.ylabel(\"Count of Target\")\n",
    "plt.title(\"Distribution of 'Converted' Variable\")\n",
    "plt.show()"
   ]
  },
  {
   "cell_type": "code",
   "execution_count": 123,
   "id": "b194c814",
   "metadata": {},
   "outputs": [
    {
     "data": {
      "text/plain": [
       "38.53896103896104"
      ]
     },
     "execution_count": 123,
     "metadata": {},
     "output_type": "execute_result"
    }
   ],
   "source": [
    "# Finding out conversion rate\n",
    "Converted = (sum(lead['Converted'])/len(lead['Converted'].index))*100\n",
    "Converted"
   ]
  },
  {
   "cell_type": "markdown",
   "id": "f146960d",
   "metadata": {},
   "source": [
    "#### Inference\n",
    "\n",
    "Currently, lead Conversion rate is 38% only"
   ]
  },
  {
   "cell_type": "code",
   "execution_count": 124,
   "id": "81b21486",
   "metadata": {},
   "outputs": [
    {
     "data": {
      "image/png": "[encoded data removed]",
      "text/plain": [
       "<Figure size 720x576 with 2 Axes>"
      ]
     },
     "metadata": {},
     "output_type": "display_data"
    }
   ],
   "source": [
    "#Checking correlations of numeric values using heatmap\n",
    "\n",
    "# Size of the figure\n",
    "plt.figure(figsize=(10,8))\n",
    "\n",
    "# heatmap\n",
    "sns.heatmap(lead.corr(), cmap=\"YlGnBu\", annot=True)\n",
    "plt.show()"
   ]
  },
  {
   "cell_type": "markdown",
   "id": "369af637",
   "metadata": {},
   "source": [
    "#### 1. Total Visits"
   ]
  },
  {
   "cell_type": "code",
   "execution_count": 125,
   "id": "e83654e6",
   "metadata": {},
   "outputs": [
    {
     "data": {
      "image/png": "[encoded data removed]",
      "text/plain": [
       "<Figure size 432x288 with 1 Axes>"
      ]
     },
     "metadata": {},
     "output_type": "display_data"
    }
   ],
   "source": [
    "#visualizing spread of variable Total Visits\n",
    "\n",
    "sns.boxplot(y=lead['TotalVisits'])\n",
    "plt.show()"
   ]
  },
  {
   "cell_type": "markdown",
   "id": "46850215",
   "metadata": {},
   "source": [
    "####  Inference\n",
    "\n",
    "Presence of outliers can be seen clearly"
   ]
  },
  {
   "cell_type": "code",
   "execution_count": 126,
   "id": "e6b8b236",
   "metadata": {},
   "outputs": [
    {
     "data": {
      "text/plain": [
       "count    9240.000000\n",
       "mean        3.438636\n",
       "std         4.819024\n",
       "min         0.000000\n",
       "5%          0.000000\n",
       "25%         1.000000\n",
       "50%         3.000000\n",
       "75%         5.000000\n",
       "90%         7.000000\n",
       "95%        10.000000\n",
       "99%        17.000000\n",
       "max       251.000000\n",
       "Name: TotalVisits, dtype: float64"
      ]
     },
     "execution_count": 126,
     "metadata": {},
     "output_type": "execute_result"
    }
   ],
   "source": [
    "#checking percentile values for \"Total Visits\"\n",
    "\n",
    "lead['TotalVisits'].describe(percentiles=[0.05,.25, .5, .75, .90, .95, .99])"
   ]
  },
  {
   "cell_type": "code",
   "execution_count": 127,
   "id": "1c6f5d87",
   "metadata": {},
   "outputs": [
    {
     "data": {
      "image/png": "[encoded data removed]",
      "text/plain": [
       "<Figure size 432x288 with 1 Axes>"
      ]
     },
     "metadata": {},
     "output_type": "display_data"
    }
   ],
   "source": [
    "#Outlier Treatment: capping the outliers to 95% value for analysis\n",
    "\n",
    "percentiles = lead['TotalVisits'].quantile([0.05,0.95]).values\n",
    "lead['TotalVisits'][lead['TotalVisits'] <= percentiles[0]] = percentiles[0]\n",
    "lead['TotalVisits'][lead['TotalVisits'] >= percentiles[1]] = percentiles[1]\n",
    "\n",
    "#visualizing variable after outlier treatment\n",
    "sns.boxplot(y=lead['TotalVisits'])\n",
    "plt.show()"
   ]
  },
  {
   "cell_type": "code",
   "execution_count": 128,
   "id": "8de234ac",
   "metadata": {},
   "outputs": [
    {
     "data": {
      "image/png": "[encoded data removed]",
      "text/plain": [
       "<Figure size 432x288 with 1 Axes>"
      ]
     },
     "metadata": {},
     "output_type": "display_data"
    }
   ],
   "source": [
    "# Visualizing TotalVisits w.r.t Target Variable 'Converted'\n",
    "sns.boxplot(y = 'TotalVisits', x = 'Converted', data = lead)\n",
    "plt.show()"
   ]
  },
  {
   "cell_type": "markdown",
   "id": "629493d6",
   "metadata": {},
   "source": [
    "#### Inference\n",
    "As the median for both converted and non-converted leads are same , nothing coclusive can be said on the basis of variable TotalVisits"
   ]
  },
  {
   "cell_type": "markdown",
   "id": "9c81c0f0",
   "metadata": {},
   "source": [
    "#### 2. Total time spent on website"
   ]
  },
  {
   "cell_type": "code",
   "execution_count": 129,
   "id": "cb81b0d4",
   "metadata": {},
   "outputs": [
    {
     "data": {
      "text/plain": [
       "count    9240.000000\n",
       "mean      487.698268\n",
       "std       548.021466\n",
       "min         0.000000\n",
       "5%          0.000000\n",
       "25%        12.000000\n",
       "50%       248.000000\n",
       "75%       936.000000\n",
       "90%      1380.000000\n",
       "95%      1562.000000\n",
       "99%      1840.610000\n",
       "max      2272.000000\n",
       "Name: Total Time Spent on Website, dtype: float64"
      ]
     },
     "execution_count": 129,
     "metadata": {},
     "output_type": "execute_result"
    }
   ],
   "source": [
    "#checking percentiles for \"Total Time Spent on Website\"\n",
    "\n",
    "lead['Total Time Spent on Website'].describe(percentiles=[0.05,.25, .5, .75, .90, .95, .99])"
   ]
  },
  {
   "cell_type": "code",
   "execution_count": 130,
   "id": "b8799f52",
   "metadata": {},
   "outputs": [
    {
     "data": {
      "image/png": "[encoded data removed]",
      "text/plain": [
       "<Figure size 432x288 with 1 Axes>"
      ]
     },
     "metadata": {},
     "output_type": "display_data"
    }
   ],
   "source": [
    "#visualizing spread of variable 'Total Time Spent on Website'\n",
    "sns.boxplot(y = lead['Total Time Spent on Website'])\n",
    "plt.show()"
   ]
  },
  {
   "cell_type": "markdown",
   "id": "0bae48c7",
   "metadata": {},
   "source": [
    "#### Since there are no major outliers for the above variable, outlier treatment is not required for it"
   ]
  },
  {
   "cell_type": "code",
   "execution_count": 131,
   "id": "e05dc318",
   "metadata": {},
   "outputs": [
    {
     "data": {
      "image/png": "[encoded data removed]",
      "text/plain": [
       "<Figure size 432x288 with 1 Axes>"
      ]
     },
     "metadata": {},
     "output_type": "display_data"
    }
   ],
   "source": [
    "# Visualizing 'Total Time Spent on Website' w.r.t Target Variable 'converted'\n",
    "sns.boxplot(y = 'Total Time Spent on Website', x = 'Converted', data = lead)\n",
    "plt.show()"
   ]
  },
  {
   "cell_type": "markdown",
   "id": "33242a77",
   "metadata": {},
   "source": [
    "#### Inference\n",
    "As can be seen, leads spending more time on website are more likely to convert , thus website should be made more enagaging to increase conversion rate"
   ]
  },
  {
   "cell_type": "markdown",
   "id": "149eeeee",
   "metadata": {},
   "source": [
    "#### 3. Page views per visit"
   ]
  },
  {
   "cell_type": "code",
   "execution_count": 132,
   "id": "7d6b1b47",
   "metadata": {},
   "outputs": [
    {
     "data": {
      "text/plain": [
       "count    9240.000000\n",
       "mean        2.357440\n",
       "std         2.145781\n",
       "min         0.000000\n",
       "25%         1.000000\n",
       "50%         2.000000\n",
       "75%         3.000000\n",
       "max        55.000000\n",
       "Name: Page Views Per Visit, dtype: float64"
      ]
     },
     "execution_count": 132,
     "metadata": {},
     "output_type": "execute_result"
    }
   ],
   "source": [
    "lead['Page Views Per Visit'].describe()"
   ]
  },
  {
   "cell_type": "code",
   "execution_count": 133,
   "id": "e1abb79c",
   "metadata": {},
   "outputs": [
    {
     "data": {
      "image/png": "[encoded data removed]",
      "text/plain": [
       "<Figure size 432x288 with 1 Axes>"
      ]
     },
     "metadata": {},
     "output_type": "display_data"
    }
   ],
   "source": [
    "#visualizing spread of variable 'Page Views Per Visit'\n",
    "sns.boxplot(y =lead['Page Views Per Visit'])\n",
    "plt.show()"
   ]
  },
  {
   "cell_type": "markdown",
   "id": "8c005c3f",
   "metadata": {},
   "source": [
    "#### Presence of outliers can be clearly seen in the above boxplot, thus outlier treatment need to be done for this variable"
   ]
  },
  {
   "cell_type": "code",
   "execution_count": 134,
   "id": "f7d673e7",
   "metadata": {},
   "outputs": [
    {
     "data": {
      "image/png": "[encoded data removed]",
      "text/plain": [
       "<Figure size 432x288 with 1 Axes>"
      ]
     },
     "metadata": {},
     "output_type": "display_data"
    }
   ],
   "source": [
    "#Outlier Treatment: capping the outliers to 95% value for analysis\n",
    "percentiles = lead['Page Views Per Visit'].quantile([0.05,0.95]).values\n",
    "lead['Page Views Per Visit'][lead['Page Views Per Visit'] <= percentiles[0]] = percentiles[0]\n",
    "lead['Page Views Per Visit'][lead['Page Views Per Visit'] >= percentiles[1]] = percentiles[1]\n",
    "\n",
    "#visualizing variable after outlier treatment\n",
    "sns.boxplot(y=lead['Page Views Per Visit'])\n",
    "plt.show()"
   ]
  },
  {
   "cell_type": "code",
   "execution_count": 135,
   "id": "1565240c",
   "metadata": {},
   "outputs": [
    {
     "data": {
      "image/png": "[encoded data removed]",
      "text/plain": [
       "<Figure size 432x288 with 1 Axes>"
      ]
     },
     "metadata": {},
     "output_type": "display_data"
    }
   ],
   "source": [
    "#visualizing 'Page Views Per Visit' w.r.t Target variable 'Converted'\n",
    "sns.boxplot(y = 'Page Views Per Visit', x = 'Converted', data = lead)\n",
    "plt.show()"
   ]
  },
  {
   "cell_type": "markdown",
   "id": "cd6e512e",
   "metadata": {},
   "source": [
    "#### Inference\n",
    "\n",
    "Median for converted and not converted leads is almost same.\n",
    "\n",
    "Nothing conclusive can be said on the basis of Page Views Per Visit."
   ]
  },
  {
   "cell_type": "code",
   "execution_count": 136,
   "id": "890b7b95",
   "metadata": {},
   "outputs": [
    {
     "data": {
      "image/png": "[encoded data removed]",
      "text/plain": [
       "<Figure size 1440x1440 with 3 Axes>"
      ]
     },
     "metadata": {},
     "output_type": "display_data"
    }
   ],
   "source": [
    "# Now check the conversions for all numeric values\n",
    "\n",
    "plt.figure(figsize=(20,20))\n",
    "plt.subplot(4,3,1)\n",
    "sns.barplot(y = 'TotalVisits', x='Converted', palette='Set2', data = lead)\n",
    "plt.subplot(4,3,2)\n",
    "sns.barplot(y = 'Total Time Spent on Website', x='Converted', palette='Set2', data = lead)\n",
    "plt.subplot(4,3,3)\n",
    "sns.barplot(y = 'Page Views Per Visit', x='Converted', palette='Set2', data = lead)\n",
    "plt.show()"
   ]
  },
  {
   "cell_type": "markdown",
   "id": "e952bf3f",
   "metadata": {},
   "source": [
    "#### Inference\n",
    "The conversion rate is high for Total Visits, Total Time Spent on Website and Page Views Per Visit"
   ]
  },
  {
   "cell_type": "markdown",
   "id": "21523c0b",
   "metadata": {},
   "source": [
    "### Now, all data labels are in good shape , we will proceed to our next step which is Data Preparation"
   ]
  },
  {
   "cell_type": "markdown",
   "id": "cf9d0c0b",
   "metadata": {},
   "source": [
    "## Step 6 : Convert Binary Categories"
   ]
  },
  {
   "cell_type": "code",
   "execution_count": 137,
   "id": "b9e8c43c",
   "metadata": {},
   "outputs": [
    {
     "data": {
      "text/plain": [
       "Do Not Email                          2\n",
       "Converted                             2\n",
       "Lead Origin                           5\n",
       "What is your current occupation       7\n",
       "Lead Source                           9\n",
       "TotalVisits                          11\n",
       "Page Views Per Visit                 91\n",
       "Total Time Spent on Website        1731\n",
       "dtype: int64"
      ]
     },
     "execution_count": 137,
     "metadata": {},
     "output_type": "execute_result"
    }
   ],
   "source": [
    "# Checking the unique value counts for categorcial columns\n",
    "lead.nunique().sort_values()"
   ]
  },
  {
   "cell_type": "code",
   "execution_count": 138,
   "id": "deb62211",
   "metadata": {},
   "outputs": [
    {
     "data": {
      "text/plain": [
       "No     8506\n",
       "Yes     734\n",
       "Name: Do Not Email, dtype: int64"
      ]
     },
     "execution_count": 138,
     "metadata": {},
     "output_type": "execute_result"
    }
   ],
   "source": [
    "# Checking the categorical values for 'Do Not Email' feature\n",
    "lead['Do Not Email'].value_counts()"
   ]
  },
  {
   "cell_type": "code",
   "execution_count": 139,
   "id": "7de3379b",
   "metadata": {},
   "outputs": [],
   "source": [
    "# Defining the map function\n",
    "def binary_map(x):\n",
    "    return x.map({'Yes': 1, \"No\": 0})\n",
    "\n",
    "# Applying the function to the lead YES/NO variable list\n",
    "lead['Do Not Email'] = lead[['Do Not Email']].apply(binary_map)"
   ]
  },
  {
   "cell_type": "code",
   "execution_count": 140,
   "id": "1a61bbf3",
   "metadata": {},
   "outputs": [
    {
     "data": {
      "text/plain": [
       "0    8506\n",
       "1     734\n",
       "Name: Do Not Email, dtype: int64"
      ]
     },
     "execution_count": 140,
     "metadata": {},
     "output_type": "execute_result"
    }
   ],
   "source": [
    "# rechecking the categorical values for 'Do Not Email' feature\n",
    "lead['Do Not Email'].value_counts()"
   ]
  },
  {
   "cell_type": "markdown",
   "id": "0fb21fc8",
   "metadata": {},
   "source": [
    "## Step 7 : Dummy Variable"
   ]
  },
  {
   "cell_type": "code",
   "execution_count": 141,
   "id": "fe27c796",
   "metadata": {},
   "outputs": [
    {
     "data": {
      "text/html": [
       "<div>\n",
       "<style scoped>\n",
       "    .dataframe tbody tr th:only-of-type {\n",
       "        vertical-align: middle;\n",
       "    }\n",
       "\n",
       "    .dataframe tbody tr th {\n",
       "        vertical-align: top;\n",
       "    }\n",
       "\n",
       "    .dataframe thead th {\n",
       "        text-align: right;\n",
       "    }\n",
       "</style>\n",
       "<table border=\"1\" class=\"dataframe\">\n",
       "  <thead>\n",
       "    <tr style=\"text-align: right;\">\n",
       "      <th></th>\n",
       "      <th>Lead Origin</th>\n",
       "      <th>Lead Source</th>\n",
       "      <th>Do Not Email</th>\n",
       "      <th>Converted</th>\n",
       "      <th>TotalVisits</th>\n",
       "      <th>Total Time Spent on Website</th>\n",
       "      <th>Page Views Per Visit</th>\n",
       "      <th>What is your current occupation</th>\n",
       "      <th>Lead Origin_Landing Page Submission</th>\n",
       "      <th>Lead Origin_Lead Add Form</th>\n",
       "      <th>...</th>\n",
       "      <th>Lead Source_Others</th>\n",
       "      <th>Lead Source_Reference</th>\n",
       "      <th>Lead Source_Referral Sites</th>\n",
       "      <th>Lead Source_Welingak Website</th>\n",
       "      <th>What is your current occupation_Housewife</th>\n",
       "      <th>What is your current occupation_Other</th>\n",
       "      <th>What is your current occupation_Student</th>\n",
       "      <th>What is your current occupation_Unemployed</th>\n",
       "      <th>What is your current occupation_Unknown</th>\n",
       "      <th>What is your current occupation_Working Professional</th>\n",
       "    </tr>\n",
       "  </thead>\n",
       "  <tbody>\n",
       "    <tr>\n",
       "      <th>0</th>\n",
       "      <td>API</td>\n",
       "      <td>Olark Chat</td>\n",
       "      <td>0</td>\n",
       "      <td>0</td>\n",
       "      <td>0.0</td>\n",
       "      <td>0</td>\n",
       "      <td>0.0</td>\n",
       "      <td>Unemployed</td>\n",
       "      <td>0</td>\n",
       "      <td>0</td>\n",
       "      <td>...</td>\n",
       "      <td>0</td>\n",
       "      <td>0</td>\n",
       "      <td>0</td>\n",
       "      <td>0</td>\n",
       "      <td>0</td>\n",
       "      <td>0</td>\n",
       "      <td>0</td>\n",
       "      <td>1</td>\n",
       "      <td>0</td>\n",
       "      <td>0</td>\n",
       "    </tr>\n",
       "    <tr>\n",
       "      <th>1</th>\n",
       "      <td>API</td>\n",
       "      <td>Organic Search</td>\n",
       "      <td>0</td>\n",
       "      <td>0</td>\n",
       "      <td>5.0</td>\n",
       "      <td>674</td>\n",
       "      <td>2.5</td>\n",
       "      <td>Unemployed</td>\n",
       "      <td>0</td>\n",
       "      <td>0</td>\n",
       "      <td>...</td>\n",
       "      <td>0</td>\n",
       "      <td>0</td>\n",
       "      <td>0</td>\n",
       "      <td>0</td>\n",
       "      <td>0</td>\n",
       "      <td>0</td>\n",
       "      <td>0</td>\n",
       "      <td>1</td>\n",
       "      <td>0</td>\n",
       "      <td>0</td>\n",
       "    </tr>\n",
       "    <tr>\n",
       "      <th>2</th>\n",
       "      <td>Landing Page Submission</td>\n",
       "      <td>Direct Traffic</td>\n",
       "      <td>0</td>\n",
       "      <td>1</td>\n",
       "      <td>2.0</td>\n",
       "      <td>1532</td>\n",
       "      <td>2.0</td>\n",
       "      <td>Student</td>\n",
       "      <td>1</td>\n",
       "      <td>0</td>\n",
       "      <td>...</td>\n",
       "      <td>0</td>\n",
       "      <td>0</td>\n",
       "      <td>0</td>\n",
       "      <td>0</td>\n",
       "      <td>0</td>\n",
       "      <td>0</td>\n",
       "      <td>1</td>\n",
       "      <td>0</td>\n",
       "      <td>0</td>\n",
       "      <td>0</td>\n",
       "    </tr>\n",
       "    <tr>\n",
       "      <th>3</th>\n",
       "      <td>Landing Page Submission</td>\n",
       "      <td>Direct Traffic</td>\n",
       "      <td>0</td>\n",
       "      <td>0</td>\n",
       "      <td>1.0</td>\n",
       "      <td>305</td>\n",
       "      <td>1.0</td>\n",
       "      <td>Unemployed</td>\n",
       "      <td>1</td>\n",
       "      <td>0</td>\n",
       "      <td>...</td>\n",
       "      <td>0</td>\n",
       "      <td>0</td>\n",
       "      <td>0</td>\n",
       "      <td>0</td>\n",
       "      <td>0</td>\n",
       "      <td>0</td>\n",
       "      <td>0</td>\n",
       "      <td>1</td>\n",
       "      <td>0</td>\n",
       "      <td>0</td>\n",
       "    </tr>\n",
       "    <tr>\n",
       "      <th>4</th>\n",
       "      <td>Landing Page Submission</td>\n",
       "      <td>Google</td>\n",
       "      <td>0</td>\n",
       "      <td>1</td>\n",
       "      <td>2.0</td>\n",
       "      <td>1428</td>\n",
       "      <td>1.0</td>\n",
       "      <td>Unemployed</td>\n",
       "      <td>1</td>\n",
       "      <td>0</td>\n",
       "      <td>...</td>\n",
       "      <td>0</td>\n",
       "      <td>0</td>\n",
       "      <td>0</td>\n",
       "      <td>0</td>\n",
       "      <td>0</td>\n",
       "      <td>0</td>\n",
       "      <td>0</td>\n",
       "      <td>1</td>\n",
       "      <td>0</td>\n",
       "      <td>0</td>\n",
       "    </tr>\n",
       "  </tbody>\n",
       "</table>\n",
       "<p>5 rows × 26 columns</p>\n",
       "</div>"
      ],
      "text/plain": [
       "               Lead Origin     Lead Source  Do Not Email  Converted  \\\n",
       "0                      API      Olark Chat             0          0   \n",
       "1                      API  Organic Search             0          0   \n",
       "2  Landing Page Submission  Direct Traffic             0          1   \n",
       "3  Landing Page Submission  Direct Traffic             0          0   \n",
       "4  Landing Page Submission          Google             0          1   \n",
       "\n",
       "   TotalVisits  Total Time Spent on Website  Page Views Per Visit  \\\n",
       "0          0.0                            0                   0.0   \n",
       "1          5.0                          674                   2.5   \n",
       "2          2.0                         1532                   2.0   \n",
       "3          1.0                          305                   1.0   \n",
       "4          2.0                         1428                   1.0   \n",
       "\n",
       "  What is your current occupation  Lead Origin_Landing Page Submission  \\\n",
       "0                      Unemployed                                    0   \n",
       "1                      Unemployed                                    0   \n",
       "2                         Student                                    1   \n",
       "3                      Unemployed                                    1   \n",
       "4                      Unemployed                                    1   \n",
       "\n",
       "   Lead Origin_Lead Add Form  ...  Lead Source_Others  Lead Source_Reference  \\\n",
       "0                          0  ...                   0                      0   \n",
       "1                          0  ...                   0                      0   \n",
       "2                          0  ...                   0                      0   \n",
       "3                          0  ...                   0                      0   \n",
       "4                          0  ...                   0                      0   \n",
       "\n",
       "   Lead Source_Referral Sites  Lead Source_Welingak Website  \\\n",
       "0                           0                             0   \n",
       "1                           0                             0   \n",
       "2                           0                             0   \n",
       "3                           0                             0   \n",
       "4                           0                             0   \n",
       "\n",
       "   What is your current occupation_Housewife  \\\n",
       "0                                          0   \n",
       "1                                          0   \n",
       "2                                          0   \n",
       "3                                          0   \n",
       "4                                          0   \n",
       "\n",
       "   What is your current occupation_Other  \\\n",
       "0                                      0   \n",
       "1                                      0   \n",
       "2                                      0   \n",
       "3                                      0   \n",
       "4                                      0   \n",
       "\n",
       "   What is your current occupation_Student  \\\n",
       "0                                        0   \n",
       "1                                        0   \n",
       "2                                        1   \n",
       "3                                        0   \n",
       "4                                        0   \n",
       "\n",
       "   What is your current occupation_Unemployed  \\\n",
       "0                                           1   \n",
       "1                                           1   \n",
       "2                                           0   \n",
       "3                                           1   \n",
       "4                                           1   \n",
       "\n",
       "   What is your current occupation_Unknown  \\\n",
       "0                                        0   \n",
       "1                                        0   \n",
       "2                                        0   \n",
       "3                                        0   \n",
       "4                                        0   \n",
       "\n",
       "   What is your current occupation_Working Professional  \n",
       "0                                                  0     \n",
       "1                                                  0     \n",
       "2                                                  0     \n",
       "3                                                  0     \n",
       "4                                                  0     \n",
       "\n",
       "[5 rows x 26 columns]"
      ]
     },
     "execution_count": 141,
     "metadata": {},
     "output_type": "execute_result"
    }
   ],
   "source": [
    "# Creating a dummy variable for some of the categorical variables and dropping the first one.\n",
    "dummy1 = pd.get_dummies(lead[['Lead Origin', 'Lead Source', 'What is your current occupation']], drop_first=True)\n",
    "\n",
    "# Adding the results to the master dataframe\n",
    "lead = pd.concat([lead, dummy1], axis=1)\n",
    "\n",
    "lead.head()"
   ]
  },
  {
   "cell_type": "code",
   "execution_count": 142,
   "id": "c990c278",
   "metadata": {},
   "outputs": [
    {
     "name": "stdout",
     "output_type": "stream",
     "text": [
      "<class 'pandas.core.frame.DataFrame'>\n",
      "RangeIndex: 9240 entries, 0 to 9239\n",
      "Data columns (total 23 columns):\n",
      " #   Column                                                Non-Null Count  Dtype  \n",
      "---  ------                                                --------------  -----  \n",
      " 0   Do Not Email                                          9240 non-null   int64  \n",
      " 1   Converted                                             9240 non-null   int64  \n",
      " 2   TotalVisits                                           9240 non-null   float64\n",
      " 3   Total Time Spent on Website                           9240 non-null   int64  \n",
      " 4   Page Views Per Visit                                  9240 non-null   float64\n",
      " 5   Lead Origin_Landing Page Submission                   9240 non-null   uint8  \n",
      " 6   Lead Origin_Lead Add Form                             9240 non-null   uint8  \n",
      " 7   Lead Origin_Lead Import                               9240 non-null   uint8  \n",
      " 8   Lead Origin_Quick Add Form                            9240 non-null   uint8  \n",
      " 9   Lead Source_Facebook                                  9240 non-null   uint8  \n",
      " 10  Lead Source_Google                                    9240 non-null   uint8  \n",
      " 11  Lead Source_Olark Chat                                9240 non-null   uint8  \n",
      " 12  Lead Source_Organic Search                            9240 non-null   uint8  \n",
      " 13  Lead Source_Others                                    9240 non-null   uint8  \n",
      " 14  Lead Source_Reference                                 9240 non-null   uint8  \n",
      " 15  Lead Source_Referral Sites                            9240 non-null   uint8  \n",
      " 16  Lead Source_Welingak Website                          9240 non-null   uint8  \n",
      " 17  What is your current occupation_Housewife             9240 non-null   uint8  \n",
      " 18  What is your current occupation_Other                 9240 non-null   uint8  \n",
      " 19  What is your current occupation_Student               9240 non-null   uint8  \n",
      " 20  What is your current occupation_Unemployed            9240 non-null   uint8  \n",
      " 21  What is your current occupation_Unknown               9240 non-null   uint8  \n",
      " 22  What is your current occupation_Working Professional  9240 non-null   uint8  \n",
      "dtypes: float64(2), int64(3), uint8(18)\n",
      "memory usage: 523.5 KB\n"
     ]
    }
   ],
   "source": [
    "# We have created dummies for the below variables, so we can drop them\n",
    "lead = lead.drop(['Lead Origin', 'Lead Source', 'What is your current occupation'], axis=1)\n",
    "lead.info()"
   ]
  },
  {
   "cell_type": "code",
   "execution_count": 143,
   "id": "111cfba8",
   "metadata": {},
   "outputs": [
    {
     "data": {
      "image/png": "[encoded data removed]",
      "text/plain": [
       "<Figure size 1080x1080 with 2 Axes>"
      ]
     },
     "metadata": {},
     "output_type": "display_data"
    }
   ],
   "source": [
    "# Visualizing the data using heatmap\n",
    "plt.figure(figsize=[15,15])\n",
    "sns.heatmap(lead.corr(), cmap=\"RdYlGn\",linewidth =1)\n",
    "plt.show()"
   ]
  },
  {
   "cell_type": "markdown",
   "id": "d1997a78",
   "metadata": {},
   "source": [
    "## Step 8. Train- Test Split"
   ]
  },
  {
   "cell_type": "code",
   "execution_count": 144,
   "id": "6aa99645",
   "metadata": {},
   "outputs": [],
   "source": [
    "# target variable\n",
    "Y = lead['Converted']\n",
    "X = lead.drop(['Converted'], axis=1)\n",
    "\n",
    "# Splitting the data into train and test\n",
    "X_train, X_test, y_train, y_test = train_test_split(X, Y, train_size=0.7, test_size=0.3, random_state=100)"
   ]
  },
  {
   "cell_type": "code",
   "execution_count": 145,
   "id": "b24cfeb8",
   "metadata": {},
   "outputs": [
    {
     "name": "stdout",
     "output_type": "stream",
     "text": [
      " Shape of X_train is :  (6468, 22)\n",
      " Shape of y_train is :  (6468,)\n",
      " Shape of X_test is  :  (2772, 22)\n",
      " Shape of y_test is  :  (2772,)\n"
     ]
    }
   ],
   "source": [
    "#Checking the shape of the created Train & Test DFs\n",
    "print(\" Shape of X_train is : \",X_train.shape)\n",
    "print(\" Shape of y_train is : \",y_train.shape)\n",
    "print(\" Shape of X_test is  : \",X_test.shape)\n",
    "print(\" Shape of y_test is  : \",y_test.shape)"
   ]
  },
  {
   "cell_type": "markdown",
   "id": "23399e3c",
   "metadata": {},
   "source": [
    "### Feature Scaling"
   ]
  },
  {
   "cell_type": "code",
   "execution_count": 146,
   "id": "9ca63b2f",
   "metadata": {},
   "outputs": [
    {
     "data": {
      "text/html": [
       "<div>\n",
       "<style scoped>\n",
       "    .dataframe tbody tr th:only-of-type {\n",
       "        vertical-align: middle;\n",
       "    }\n",
       "\n",
       "    .dataframe tbody tr th {\n",
       "        vertical-align: top;\n",
       "    }\n",
       "\n",
       "    .dataframe thead th {\n",
       "        text-align: right;\n",
       "    }\n",
       "</style>\n",
       "<table border=\"1\" class=\"dataframe\">\n",
       "  <thead>\n",
       "    <tr style=\"text-align: right;\">\n",
       "      <th></th>\n",
       "      <th>Do Not Email</th>\n",
       "      <th>TotalVisits</th>\n",
       "      <th>Total Time Spent on Website</th>\n",
       "      <th>Page Views Per Visit</th>\n",
       "      <th>Lead Origin_Landing Page Submission</th>\n",
       "      <th>Lead Origin_Lead Add Form</th>\n",
       "      <th>Lead Origin_Lead Import</th>\n",
       "      <th>Lead Origin_Quick Add Form</th>\n",
       "      <th>Lead Source_Facebook</th>\n",
       "      <th>Lead Source_Google</th>\n",
       "      <th>...</th>\n",
       "      <th>Lead Source_Others</th>\n",
       "      <th>Lead Source_Reference</th>\n",
       "      <th>Lead Source_Referral Sites</th>\n",
       "      <th>Lead Source_Welingak Website</th>\n",
       "      <th>What is your current occupation_Housewife</th>\n",
       "      <th>What is your current occupation_Other</th>\n",
       "      <th>What is your current occupation_Student</th>\n",
       "      <th>What is your current occupation_Unemployed</th>\n",
       "      <th>What is your current occupation_Unknown</th>\n",
       "      <th>What is your current occupation_Working Professional</th>\n",
       "    </tr>\n",
       "  </thead>\n",
       "  <tbody>\n",
       "    <tr>\n",
       "      <th>1871</th>\n",
       "      <td>0</td>\n",
       "      <td>-1.149699</td>\n",
       "      <td>-0.885371</td>\n",
       "      <td>-1.266675</td>\n",
       "      <td>0</td>\n",
       "      <td>0</td>\n",
       "      <td>0</td>\n",
       "      <td>0</td>\n",
       "      <td>0</td>\n",
       "      <td>0</td>\n",
       "      <td>...</td>\n",
       "      <td>0</td>\n",
       "      <td>0</td>\n",
       "      <td>0</td>\n",
       "      <td>0</td>\n",
       "      <td>0</td>\n",
       "      <td>0</td>\n",
       "      <td>0</td>\n",
       "      <td>1</td>\n",
       "      <td>0</td>\n",
       "      <td>0</td>\n",
       "    </tr>\n",
       "    <tr>\n",
       "      <th>6795</th>\n",
       "      <td>0</td>\n",
       "      <td>0.299722</td>\n",
       "      <td>0.005716</td>\n",
       "      <td>-0.516439</td>\n",
       "      <td>1</td>\n",
       "      <td>0</td>\n",
       "      <td>0</td>\n",
       "      <td>0</td>\n",
       "      <td>0</td>\n",
       "      <td>0</td>\n",
       "      <td>...</td>\n",
       "      <td>0</td>\n",
       "      <td>0</td>\n",
       "      <td>0</td>\n",
       "      <td>0</td>\n",
       "      <td>0</td>\n",
       "      <td>0</td>\n",
       "      <td>0</td>\n",
       "      <td>1</td>\n",
       "      <td>0</td>\n",
       "      <td>0</td>\n",
       "    </tr>\n",
       "    <tr>\n",
       "      <th>3516</th>\n",
       "      <td>0</td>\n",
       "      <td>0.662077</td>\n",
       "      <td>-0.691418</td>\n",
       "      <td>0.143543</td>\n",
       "      <td>0</td>\n",
       "      <td>0</td>\n",
       "      <td>0</td>\n",
       "      <td>0</td>\n",
       "      <td>0</td>\n",
       "      <td>0</td>\n",
       "      <td>...</td>\n",
       "      <td>0</td>\n",
       "      <td>0</td>\n",
       "      <td>0</td>\n",
       "      <td>0</td>\n",
       "      <td>0</td>\n",
       "      <td>0</td>\n",
       "      <td>0</td>\n",
       "      <td>1</td>\n",
       "      <td>0</td>\n",
       "      <td>0</td>\n",
       "    </tr>\n",
       "    <tr>\n",
       "      <th>8105</th>\n",
       "      <td>0</td>\n",
       "      <td>0.662077</td>\n",
       "      <td>1.365219</td>\n",
       "      <td>1.553761</td>\n",
       "      <td>1</td>\n",
       "      <td>0</td>\n",
       "      <td>0</td>\n",
       "      <td>0</td>\n",
       "      <td>0</td>\n",
       "      <td>1</td>\n",
       "      <td>...</td>\n",
       "      <td>0</td>\n",
       "      <td>0</td>\n",
       "      <td>0</td>\n",
       "      <td>0</td>\n",
       "      <td>0</td>\n",
       "      <td>0</td>\n",
       "      <td>0</td>\n",
       "      <td>1</td>\n",
       "      <td>0</td>\n",
       "      <td>0</td>\n",
       "    </tr>\n",
       "    <tr>\n",
       "      <th>3934</th>\n",
       "      <td>0</td>\n",
       "      <td>-1.149699</td>\n",
       "      <td>-0.885371</td>\n",
       "      <td>-1.266675</td>\n",
       "      <td>0</td>\n",
       "      <td>0</td>\n",
       "      <td>0</td>\n",
       "      <td>0</td>\n",
       "      <td>0</td>\n",
       "      <td>0</td>\n",
       "      <td>...</td>\n",
       "      <td>0</td>\n",
       "      <td>0</td>\n",
       "      <td>0</td>\n",
       "      <td>0</td>\n",
       "      <td>0</td>\n",
       "      <td>0</td>\n",
       "      <td>0</td>\n",
       "      <td>1</td>\n",
       "      <td>0</td>\n",
       "      <td>0</td>\n",
       "    </tr>\n",
       "  </tbody>\n",
       "</table>\n",
       "<p>5 rows × 22 columns</p>\n",
       "</div>"
      ],
      "text/plain": [
       "      Do Not Email  TotalVisits  Total Time Spent on Website  \\\n",
       "1871             0    -1.149699                    -0.885371   \n",
       "6795             0     0.299722                     0.005716   \n",
       "3516             0     0.662077                    -0.691418   \n",
       "8105             0     0.662077                     1.365219   \n",
       "3934             0    -1.149699                    -0.885371   \n",
       "\n",
       "      Page Views Per Visit  Lead Origin_Landing Page Submission  \\\n",
       "1871             -1.266675                                    0   \n",
       "6795             -0.516439                                    1   \n",
       "3516              0.143543                                    0   \n",
       "8105              1.553761                                    1   \n",
       "3934             -1.266675                                    0   \n",
       "\n",
       "      Lead Origin_Lead Add Form  Lead Origin_Lead Import  \\\n",
       "1871                          0                        0   \n",
       "6795                          0                        0   \n",
       "3516                          0                        0   \n",
       "8105                          0                        0   \n",
       "3934                          0                        0   \n",
       "\n",
       "      Lead Origin_Quick Add Form  Lead Source_Facebook  Lead Source_Google  \\\n",
       "1871                           0                     0                   0   \n",
       "6795                           0                     0                   0   \n",
       "3516                           0                     0                   0   \n",
       "8105                           0                     0                   1   \n",
       "3934                           0                     0                   0   \n",
       "\n",
       "      ...  Lead Source_Others  Lead Source_Reference  \\\n",
       "1871  ...                   0                      0   \n",
       "6795  ...                   0                      0   \n",
       "3516  ...                   0                      0   \n",
       "8105  ...                   0                      0   \n",
       "3934  ...                   0                      0   \n",
       "\n",
       "      Lead Source_Referral Sites  Lead Source_Welingak Website  \\\n",
       "1871                           0                             0   \n",
       "6795                           0                             0   \n",
       "3516                           0                             0   \n",
       "8105                           0                             0   \n",
       "3934                           0                             0   \n",
       "\n",
       "      What is your current occupation_Housewife  \\\n",
       "1871                                          0   \n",
       "6795                                          0   \n",
       "3516                                          0   \n",
       "8105                                          0   \n",
       "3934                                          0   \n",
       "\n",
       "      What is your current occupation_Other  \\\n",
       "1871                                      0   \n",
       "6795                                      0   \n",
       "3516                                      0   \n",
       "8105                                      0   \n",
       "3934                                      0   \n",
       "\n",
       "      What is your current occupation_Student  \\\n",
       "1871                                        0   \n",
       "6795                                        0   \n",
       "3516                                        0   \n",
       "8105                                        0   \n",
       "3934                                        0   \n",
       "\n",
       "      What is your current occupation_Unemployed  \\\n",
       "1871                                           1   \n",
       "6795                                           1   \n",
       "3516                                           1   \n",
       "8105                                           1   \n",
       "3934                                           1   \n",
       "\n",
       "      What is your current occupation_Unknown  \\\n",
       "1871                                        0   \n",
       "6795                                        0   \n",
       "3516                                        0   \n",
       "8105                                        0   \n",
       "3934                                        0   \n",
       "\n",
       "      What is your current occupation_Working Professional  \n",
       "1871                                                  0     \n",
       "6795                                                  0     \n",
       "3516                                                  0     \n",
       "8105                                                  0     \n",
       "3934                                                  0     \n",
       "\n",
       "[5 rows x 22 columns]"
      ]
     },
     "execution_count": 146,
     "metadata": {},
     "output_type": "execute_result"
    }
   ],
   "source": [
    "scaler = StandardScaler()\n",
    "\n",
    "X_train[['Total Time Spent on Website','Page Views Per Visit','TotalVisits']] = scaler.fit_transform(X_train[['Total Time Spent on Website','Page Views Per Visit','TotalVisits']])\n",
    "X_train.head()"
   ]
  },
  {
   "cell_type": "markdown",
   "id": "05137d94",
   "metadata": {},
   "source": [
    "## Step 9. Model Building"
   ]
  },
  {
   "cell_type": "markdown",
   "id": "f7f815f5",
   "metadata": {},
   "source": [
    "### RFE for Feature Reduction"
   ]
  },
  {
   "cell_type": "code",
   "execution_count": 157,
   "id": "643825de",
   "metadata": {},
   "outputs": [
    {
     "ename": "TypeError",
     "evalue": "__init__() takes 2 positional arguments but 3 were given",
     "output_type": "error",
     "traceback": [
      "\u001b[1;31m---------------------------------------------------------------------------\u001b[0m",
      "\u001b[1;31mTypeError\u001b[0m                                 Traceback (most recent call last)",
      "Input \u001b[1;32mIn [157]\u001b[0m, in \u001b[0;36m<cell line: 3>\u001b[1;34m()\u001b[0m\n\u001b[0;32m      1\u001b[0m \u001b[38;5;66;03m# Using RFE to reduce the feature count from 22 to 15\u001b[39;00m\n\u001b[0;32m      2\u001b[0m logreg \u001b[38;5;241m=\u001b[39m LogisticRegression()\n\u001b[1;32m----> 3\u001b[0m rfe \u001b[38;5;241m=\u001b[39m \u001b[43mRFE\u001b[49m\u001b[43m(\u001b[49m\u001b[43mlogreg\u001b[49m\u001b[43m,\u001b[49m\u001b[43m \u001b[49m\u001b[38;5;241;43m15\u001b[39;49m\u001b[43m)\u001b[49m           \n\u001b[0;32m      4\u001b[0m rfe \u001b[38;5;241m=\u001b[39m rfe\u001b[38;5;241m.\u001b[39mfit(X_train, y_train)\n",
      "\u001b[1;31mTypeError\u001b[0m: __init__() takes 2 positional arguments but 3 were given"
     ]
    }
   ],
   "source": [
    "# Using RFE to reduce the feature count from 22 to 15\n",
    "logreg = LogisticRegression()\n",
    "rfe = RFE(logreg, 15)           \n",
    "rfe = rfe.fit(X_train, y_train)"
   ]
  },
  {
   "cell_type": "code",
   "execution_count": 148,
   "id": "ce784e12",
   "metadata": {},
   "outputs": [
    {
     "data": {
      "text/plain": [
       "[('Do Not Email', True, 1),\n",
       " ('TotalVisits', False, 2),\n",
       " ('Total Time Spent on Website', True, 1),\n",
       " ('Page Views Per Visit', False, 2),\n",
       " ('Lead Origin_Landing Page Submission', False, 2),\n",
       " ('Lead Origin_Lead Add Form', True, 1),\n",
       " ('Lead Origin_Lead Import', False, 2),\n",
       " ('Lead Origin_Quick Add Form', False, 2),\n",
       " ('Lead Source_Facebook', False, 2),\n",
       " ('Lead Source_Google', False, 2),\n",
       " ('Lead Source_Olark Chat', True, 1),\n",
       " ('Lead Source_Organic Search', False, 2),\n",
       " ('Lead Source_Others', True, 1),\n",
       " ('Lead Source_Reference', True, 1),\n",
       " ('Lead Source_Referral Sites', False, 2),\n",
       " ('Lead Source_Welingak Website', True, 1),\n",
       " ('What is your current occupation_Housewife', True, 1),\n",
       " ('What is your current occupation_Other', True, 1),\n",
       " ('What is your current occupation_Student', False, 2),\n",
       " ('What is your current occupation_Unemployed', False, 2),\n",
       " ('What is your current occupation_Unknown', True, 1),\n",
       " ('What is your current occupation_Working Professional', True, 1)]"
      ]
     },
     "execution_count": 148,
     "metadata": {},
     "output_type": "execute_result"
    }
   ],
   "source": [
    "#checking the output of RFE\n",
    "list(zip(X_train.columns, rfe.support_, rfe.ranking_))"
   ]
  },
  {
   "cell_type": "code",
   "execution_count": 149,
   "id": "55244418",
   "metadata": {},
   "outputs": [
    {
     "data": {
      "text/plain": [
       "Index(['Do Not Email', 'Total Time Spent on Website',\n",
       "       'Lead Origin_Lead Add Form', 'Lead Source_Olark Chat',\n",
       "       'Lead Source_Others', 'Lead Source_Reference',\n",
       "       'Lead Source_Welingak Website',\n",
       "       'What is your current occupation_Housewife',\n",
       "       'What is your current occupation_Other',\n",
       "       'What is your current occupation_Unknown',\n",
       "       'What is your current occupation_Working Professional'],\n",
       "      dtype='object')"
      ]
     },
     "execution_count": 149,
     "metadata": {},
     "output_type": "execute_result"
    }
   ],
   "source": [
    "#checking which columns remained after RFE\n",
    "rfe_col = X_train.columns[rfe.support_]\n",
    "rfe_col"
   ]
  },
  {
   "cell_type": "code",
   "execution_count": 150,
   "id": "ddf528ef",
   "metadata": {},
   "outputs": [
    {
     "data": {
      "text/plain": [
       "Index(['TotalVisits', 'Page Views Per Visit',\n",
       "       'Lead Origin_Landing Page Submission', 'Lead Origin_Lead Import',\n",
       "       'Lead Origin_Quick Add Form', 'Lead Source_Facebook',\n",
       "       'Lead Source_Google', 'Lead Source_Organic Search',\n",
       "       'Lead Source_Referral Sites', 'What is your current occupation_Student',\n",
       "       'What is your current occupation_Unemployed'],\n",
       "      dtype='object')"
      ]
     },
     "execution_count": 150,
     "metadata": {},
     "output_type": "execute_result"
    }
   ],
   "source": [
    "#Columns which have been removed after RFE\n",
    "X_train.columns[~rfe.support_]"
   ]
  },
  {
   "cell_type": "code",
   "execution_count": 151,
   "id": "438a701f",
   "metadata": {},
   "outputs": [],
   "source": [
    "# Functions to repeat Logictis regression model and VIF calculation repeatedly\n",
    "\n",
    "# function to build logistic regression model\n",
    "def build_logistic_model(feature_list):\n",
    "    X_train_local = X_train[feature_list] # get feature list for VIF\n",
    "    X_train_sm = sm.add_constant(X_train_local) # required by statsmodels   \n",
    "    log_model = sm.GLM(y_train,X_train_sm, family = sm.families.Binomial()).fit() # build model and learn coefficients  \n",
    "    return(log_model, X_train_sm) # return the model and the X_train fitted with constant \n",
    "\n",
    "#function to calculate VIF\n",
    "def calculate_VIF(X_train):  # Calculate VIF for features\n",
    "    vif = pd.DataFrame()\n",
    "    vif['Features'] = X_train.columns # Read the feature names\n",
    "    vif['VIF'] = [variance_inflation_factor(X_train.values,i) for i in range(X_train.shape[1])] # calculate VIF\n",
    "    vif['VIF'] = round(vif['VIF'],2)\n",
    "    vif.sort_values(by='VIF', ascending = False, inplace=True)  \n",
    "    return(vif) # returns the calculated VIFs for all the features"
   ]
  },
  {
   "cell_type": "markdown",
   "id": "d922816a",
   "metadata": {},
   "source": [
    "### Manual Feature Reduction"
   ]
  },
  {
   "cell_type": "markdown",
   "id": "3019e0d0",
   "metadata": {},
   "source": [
    "### Model 1"
   ]
  },
  {
   "cell_type": "code",
   "execution_count": 152,
   "id": "4a926cf3",
   "metadata": {},
   "outputs": [
    {
     "data": {
      "text/html": [
       "<table class=\"simpletable\">\n",
       "<caption>Generalized Linear Model Regression Results</caption>\n",
       "<tr>\n",
       "  <th>Dep. Variable:</th>       <td>Converted</td>    <th>  No. Observations:  </th>  <td>  6468</td> \n",
       "</tr>\n",
       "<tr>\n",
       "  <th>Model:</th>                  <td>GLM</td>       <th>  Df Residuals:      </th>  <td>  6456</td> \n",
       "</tr>\n",
       "<tr>\n",
       "  <th>Model Family:</th>        <td>Binomial</td>     <th>  Df Model:          </th>  <td>    11</td> \n",
       "</tr>\n",
       "<tr>\n",
       "  <th>Link Function:</th>         <td>Logit</td>      <th>  Scale:             </th> <td>  1.0000</td>\n",
       "</tr>\n",
       "<tr>\n",
       "  <th>Method:</th>                <td>IRLS</td>       <th>  Log-Likelihood:    </th> <td> -2896.1</td>\n",
       "</tr>\n",
       "<tr>\n",
       "  <th>Date:</th>            <td>Wed, 12 Oct 2022</td> <th>  Deviance:          </th> <td>  5792.3</td>\n",
       "</tr>\n",
       "<tr>\n",
       "  <th>Time:</th>                <td>17:04:34</td>     <th>  Pearson chi2:      </th> <td>7.38e+03</td>\n",
       "</tr>\n",
       "<tr>\n",
       "  <th>No. Iterations:</th>         <td>21</td>        <th>  Pseudo R-squ. (CS):</th>  <td>0.3520</td> \n",
       "</tr>\n",
       "<tr>\n",
       "  <th>Covariance Type:</th>     <td>nonrobust</td>    <th>                     </th>     <td> </td>   \n",
       "</tr>\n",
       "</table>\n",
       "<table class=\"simpletable\">\n",
       "<tr>\n",
       "                            <td></td>                              <th>coef</th>     <th>std err</th>      <th>z</th>      <th>P>|z|</th>  <th>[0.025</th>    <th>0.975]</th>  \n",
       "</tr>\n",
       "<tr>\n",
       "  <th>const</th>                                                <td>   -0.7737</td> <td>    0.044</td> <td>  -17.455</td> <td> 0.000</td> <td>   -0.861</td> <td>   -0.687</td>\n",
       "</tr>\n",
       "<tr>\n",
       "  <th>Do Not Email</th>                                         <td>   -1.3242</td> <td>    0.159</td> <td>   -8.305</td> <td> 0.000</td> <td>   -1.637</td> <td>   -1.012</td>\n",
       "</tr>\n",
       "<tr>\n",
       "  <th>Total Time Spent on Website</th>                          <td>    1.0972</td> <td>    0.038</td> <td>   28.855</td> <td> 0.000</td> <td>    1.023</td> <td>    1.172</td>\n",
       "</tr>\n",
       "<tr>\n",
       "  <th>Lead Origin_Lead Add Form</th>                            <td>    3.1737</td> <td>    0.465</td> <td>    6.824</td> <td> 0.000</td> <td>    2.262</td> <td>    4.085</td>\n",
       "</tr>\n",
       "<tr>\n",
       "  <th>Lead Source_Olark Chat</th>                               <td>    0.9704</td> <td>    0.095</td> <td>   10.251</td> <td> 0.000</td> <td>    0.785</td> <td>    1.156</td>\n",
       "</tr>\n",
       "<tr>\n",
       "  <th>Lead Source_Others</th>                                   <td>    0.3684</td> <td>    0.624</td> <td>    0.591</td> <td> 0.555</td> <td>   -0.854</td> <td>    1.591</td>\n",
       "</tr>\n",
       "<tr>\n",
       "  <th>Lead Source_Reference</th>                                <td>    0.3477</td> <td>    0.498</td> <td>    0.698</td> <td> 0.485</td> <td>   -0.629</td> <td>    1.324</td>\n",
       "</tr>\n",
       "<tr>\n",
       "  <th>Lead Source_Welingak Website</th>                         <td>    2.4269</td> <td>    0.853</td> <td>    2.844</td> <td> 0.004</td> <td>    0.755</td> <td>    4.099</td>\n",
       "</tr>\n",
       "<tr>\n",
       "  <th>What is your current occupation_Housewife</th>            <td>   22.3497</td> <td> 1.38e+04</td> <td>    0.002</td> <td> 0.999</td> <td>-2.69e+04</td> <td>  2.7e+04</td>\n",
       "</tr>\n",
       "<tr>\n",
       "  <th>What is your current occupation_Other</th>                <td>   -0.6950</td> <td>    0.766</td> <td>   -0.907</td> <td> 0.364</td> <td>   -2.196</td> <td>    0.806</td>\n",
       "</tr>\n",
       "<tr>\n",
       "  <th>What is your current occupation_Unknown</th>              <td>   -1.2486</td> <td>    0.082</td> <td>  -15.166</td> <td> 0.000</td> <td>   -1.410</td> <td>   -1.087</td>\n",
       "</tr>\n",
       "<tr>\n",
       "  <th>What is your current occupation_Working Professional</th> <td>    2.5348</td> <td>    0.180</td> <td>   14.072</td> <td> 0.000</td> <td>    2.182</td> <td>    2.888</td>\n",
       "</tr>\n",
       "</table>"
      ],
      "text/plain": [
       "<class 'statsmodels.iolib.summary.Summary'>\n",
       "\"\"\"\n",
       "                 Generalized Linear Model Regression Results                  \n",
       "==============================================================================\n",
       "Dep. Variable:              Converted   No. Observations:                 6468\n",
       "Model:                            GLM   Df Residuals:                     6456\n",
       "Model Family:                Binomial   Df Model:                           11\n",
       "Link Function:                  Logit   Scale:                          1.0000\n",
       "Method:                          IRLS   Log-Likelihood:                -2896.1\n",
       "Date:                Wed, 12 Oct 2022   Deviance:                       5792.3\n",
       "Time:                        17:04:34   Pearson chi2:                 7.38e+03\n",
       "No. Iterations:                    21   Pseudo R-squ. (CS):             0.3520\n",
       "Covariance Type:            nonrobust                                         \n",
       "========================================================================================================================\n",
       "                                                           coef    std err          z      P>|z|      [0.025      0.975]\n",
       "------------------------------------------------------------------------------------------------------------------------\n",
       "const                                                   -0.7737      0.044    -17.455      0.000      -0.861      -0.687\n",
       "Do Not Email                                            -1.3242      0.159     -8.305      0.000      -1.637      -1.012\n",
       "Total Time Spent on Website                              1.0972      0.038     28.855      0.000       1.023       1.172\n",
       "Lead Origin_Lead Add Form                                3.1737      0.465      6.824      0.000       2.262       4.085\n",
       "Lead Source_Olark Chat                                   0.9704      0.095     10.251      0.000       0.785       1.156\n",
       "Lead Source_Others                                       0.3684      0.624      0.591      0.555      -0.854       1.591\n",
       "Lead Source_Reference                                    0.3477      0.498      0.698      0.485      -0.629       1.324\n",
       "Lead Source_Welingak Website                             2.4269      0.853      2.844      0.004       0.755       4.099\n",
       "What is your current occupation_Housewife               22.3497   1.38e+04      0.002      0.999   -2.69e+04     2.7e+04\n",
       "What is your current occupation_Other                   -0.6950      0.766     -0.907      0.364      -2.196       0.806\n",
       "What is your current occupation_Unknown                 -1.2486      0.082    -15.166      0.000      -1.410      -1.087\n",
       "What is your current occupation_Working Professional     2.5348      0.180     14.072      0.000       2.182       2.888\n",
       "========================================================================================================================\n",
       "\"\"\""
      ]
     },
     "execution_count": 152,
     "metadata": {},
     "output_type": "execute_result"
    }
   ],
   "source": [
    "features = list(rfe_col) #  Use RFE selected variables\n",
    "log_model1, X_train_sm1 = build_logistic_model(features) # Call the function and get the model and the X_train_sm for prediction\n",
    "log_model1.summary()"
   ]
  },
  {
   "cell_type": "code",
   "execution_count": 153,
   "id": "3354aa44",
   "metadata": {},
   "outputs": [
    {
     "data": {
      "text/html": [
       "<div>\n",
       "<style scoped>\n",
       "    .dataframe tbody tr th:only-of-type {\n",
       "        vertical-align: middle;\n",
       "    }\n",
       "\n",
       "    .dataframe tbody tr th {\n",
       "        vertical-align: top;\n",
       "    }\n",
       "\n",
       "    .dataframe thead th {\n",
       "        text-align: right;\n",
       "    }\n",
       "</style>\n",
       "<table border=\"1\" class=\"dataframe\">\n",
       "  <thead>\n",
       "    <tr style=\"text-align: right;\">\n",
       "      <th></th>\n",
       "      <th>Features</th>\n",
       "      <th>VIF</th>\n",
       "    </tr>\n",
       "  </thead>\n",
       "  <tbody>\n",
       "    <tr>\n",
       "      <th>5</th>\n",
       "      <td>Lead Origin_Lead Add Form</td>\n",
       "      <td>16.99</td>\n",
       "    </tr>\n",
       "    <tr>\n",
       "      <th>6</th>\n",
       "      <td>Lead Origin_Lead Import</td>\n",
       "      <td>16.87</td>\n",
       "    </tr>\n",
       "    <tr>\n",
       "      <th>8</th>\n",
       "      <td>Lead Source_Facebook</td>\n",
       "      <td>16.85</td>\n",
       "    </tr>\n",
       "    <tr>\n",
       "      <th>13</th>\n",
       "      <td>Lead Source_Reference</td>\n",
       "      <td>13.92</td>\n",
       "    </tr>\n",
       "    <tr>\n",
       "      <th>19</th>\n",
       "      <td>What is your current occupation_Unemployed</td>\n",
       "      <td>7.51</td>\n",
       "    </tr>\n",
       "    <tr>\n",
       "      <th>4</th>\n",
       "      <td>Lead Origin_Landing Page Submission</td>\n",
       "      <td>4.85</td>\n",
       "    </tr>\n",
       "    <tr>\n",
       "      <th>20</th>\n",
       "      <td>What is your current occupation_Unknown</td>\n",
       "      <td>4.18</td>\n",
       "    </tr>\n",
       "    <tr>\n",
       "      <th>15</th>\n",
       "      <td>Lead Source_Welingak Website</td>\n",
       "      <td>3.99</td>\n",
       "    </tr>\n",
       "    <tr>\n",
       "      <th>10</th>\n",
       "      <td>Lead Source_Olark Chat</td>\n",
       "      <td>3.71</td>\n",
       "    </tr>\n",
       "    <tr>\n",
       "      <th>3</th>\n",
       "      <td>Page Views Per Visit</td>\n",
       "      <td>3.21</td>\n",
       "    </tr>\n",
       "    <tr>\n",
       "      <th>9</th>\n",
       "      <td>Lead Source_Google</td>\n",
       "      <td>2.64</td>\n",
       "    </tr>\n",
       "    <tr>\n",
       "      <th>1</th>\n",
       "      <td>TotalVisits</td>\n",
       "      <td>2.52</td>\n",
       "    </tr>\n",
       "    <tr>\n",
       "      <th>21</th>\n",
       "      <td>What is your current occupation_Working Profes...</td>\n",
       "      <td>1.97</td>\n",
       "    </tr>\n",
       "    <tr>\n",
       "      <th>11</th>\n",
       "      <td>Lead Source_Organic Search</td>\n",
       "      <td>1.73</td>\n",
       "    </tr>\n",
       "    <tr>\n",
       "      <th>2</th>\n",
       "      <td>Total Time Spent on Website</td>\n",
       "      <td>1.28</td>\n",
       "    </tr>\n",
       "    <tr>\n",
       "      <th>18</th>\n",
       "      <td>What is your current occupation_Student</td>\n",
       "      <td>1.22</td>\n",
       "    </tr>\n",
       "    <tr>\n",
       "      <th>14</th>\n",
       "      <td>Lead Source_Referral Sites</td>\n",
       "      <td>1.14</td>\n",
       "    </tr>\n",
       "    <tr>\n",
       "      <th>0</th>\n",
       "      <td>Do Not Email</td>\n",
       "      <td>1.12</td>\n",
       "    </tr>\n",
       "    <tr>\n",
       "      <th>12</th>\n",
       "      <td>Lead Source_Others</td>\n",
       "      <td>1.06</td>\n",
       "    </tr>\n",
       "    <tr>\n",
       "      <th>16</th>\n",
       "      <td>What is your current occupation_Housewife</td>\n",
       "      <td>1.03</td>\n",
       "    </tr>\n",
       "    <tr>\n",
       "      <th>17</th>\n",
       "      <td>What is your current occupation_Other</td>\n",
       "      <td>1.01</td>\n",
       "    </tr>\n",
       "    <tr>\n",
       "      <th>7</th>\n",
       "      <td>Lead Origin_Quick Add Form</td>\n",
       "      <td>1.00</td>\n",
       "    </tr>\n",
       "  </tbody>\n",
       "</table>\n",
       "</div>"
      ],
      "text/plain": [
       "                                             Features    VIF\n",
       "5                           Lead Origin_Lead Add Form  16.99\n",
       "6                             Lead Origin_Lead Import  16.87\n",
       "8                                Lead Source_Facebook  16.85\n",
       "13                              Lead Source_Reference  13.92\n",
       "19         What is your current occupation_Unemployed   7.51\n",
       "4                 Lead Origin_Landing Page Submission   4.85\n",
       "20            What is your current occupation_Unknown   4.18\n",
       "15                       Lead Source_Welingak Website   3.99\n",
       "10                             Lead Source_Olark Chat   3.71\n",
       "3                                Page Views Per Visit   3.21\n",
       "9                                  Lead Source_Google   2.64\n",
       "1                                         TotalVisits   2.52\n",
       "21  What is your current occupation_Working Profes...   1.97\n",
       "11                         Lead Source_Organic Search   1.73\n",
       "2                         Total Time Spent on Website   1.28\n",
       "18            What is your current occupation_Student   1.22\n",
       "14                         Lead Source_Referral Sites   1.14\n",
       "0                                        Do Not Email   1.12\n",
       "12                                 Lead Source_Others   1.06\n",
       "16          What is your current occupation_Housewife   1.03\n",
       "17              What is your current occupation_Other   1.01\n",
       "7                          Lead Origin_Quick Add Form   1.00"
      ]
     },
     "execution_count": 153,
     "metadata": {},
     "output_type": "execute_result"
    }
   ],
   "source": [
    "#Checking VIF values\n",
    "calculate_VIF(X_train)"
   ]
  },
  {
   "cell_type": "markdown",
   "id": "63596f32",
   "metadata": {},
   "source": [
    "### Model 2"
   ]
  },
  {
   "cell_type": "markdown",
   "id": "9be35c7a",
   "metadata": {},
   "source": [
    "#### We will remove 'What is your current occupation_Housewife' feature due to high P-value of 0.999"
   ]
  },
  {
   "cell_type": "code",
   "execution_count": 154,
   "id": "04fc218f",
   "metadata": {},
   "outputs": [
    {
     "data": {
      "text/html": [
       "<table class=\"simpletable\">\n",
       "<caption>Generalized Linear Model Regression Results</caption>\n",
       "<tr>\n",
       "  <th>Dep. Variable:</th>       <td>Converted</td>    <th>  No. Observations:  </th>  <td>  6468</td> \n",
       "</tr>\n",
       "<tr>\n",
       "  <th>Model:</th>                  <td>GLM</td>       <th>  Df Residuals:      </th>  <td>  6457</td> \n",
       "</tr>\n",
       "<tr>\n",
       "  <th>Model Family:</th>        <td>Binomial</td>     <th>  Df Model:          </th>  <td>    10</td> \n",
       "</tr>\n",
       "<tr>\n",
       "  <th>Link Function:</th>         <td>Logit</td>      <th>  Scale:             </th> <td>  1.0000</td>\n",
       "</tr>\n",
       "<tr>\n",
       "  <th>Method:</th>                <td>IRLS</td>       <th>  Log-Likelihood:    </th> <td> -2901.1</td>\n",
       "</tr>\n",
       "<tr>\n",
       "  <th>Date:</th>            <td>Wed, 12 Oct 2022</td> <th>  Deviance:          </th> <td>  5802.1</td>\n",
       "</tr>\n",
       "<tr>\n",
       "  <th>Time:</th>                <td>17:04:34</td>     <th>  Pearson chi2:      </th> <td>7.40e+03</td>\n",
       "</tr>\n",
       "<tr>\n",
       "  <th>No. Iterations:</th>          <td>7</td>        <th>  Pseudo R-squ. (CS):</th>  <td>0.3510</td> \n",
       "</tr>\n",
       "<tr>\n",
       "  <th>Covariance Type:</th>     <td>nonrobust</td>    <th>                     </th>     <td> </td>   \n",
       "</tr>\n",
       "</table>\n",
       "<table class=\"simpletable\">\n",
       "<tr>\n",
       "                            <td></td>                              <th>coef</th>     <th>std err</th>      <th>z</th>      <th>P>|z|</th>  <th>[0.025</th>    <th>0.975]</th>  \n",
       "</tr>\n",
       "<tr>\n",
       "  <th>const</th>                                                <td>   -0.7687</td> <td>    0.044</td> <td>  -17.372</td> <td> 0.000</td> <td>   -0.855</td> <td>   -0.682</td>\n",
       "</tr>\n",
       "<tr>\n",
       "  <th>Do Not Email</th>                                         <td>   -1.3281</td> <td>    0.159</td> <td>   -8.329</td> <td> 0.000</td> <td>   -1.641</td> <td>   -1.016</td>\n",
       "</tr>\n",
       "<tr>\n",
       "  <th>Total Time Spent on Website</th>                          <td>    1.0967</td> <td>    0.038</td> <td>   28.859</td> <td> 0.000</td> <td>    1.022</td> <td>    1.171</td>\n",
       "</tr>\n",
       "<tr>\n",
       "  <th>Lead Origin_Lead Add Form</th>                            <td>    3.1701</td> <td>    0.465</td> <td>    6.815</td> <td> 0.000</td> <td>    2.258</td> <td>    4.082</td>\n",
       "</tr>\n",
       "<tr>\n",
       "  <th>Lead Source_Olark Chat</th>                               <td>    0.9663</td> <td>    0.095</td> <td>   10.214</td> <td> 0.000</td> <td>    0.781</td> <td>    1.152</td>\n",
       "</tr>\n",
       "<tr>\n",
       "  <th>Lead Source_Others</th>                                   <td>    0.3656</td> <td>    0.624</td> <td>    0.586</td> <td> 0.558</td> <td>   -0.857</td> <td>    1.589</td>\n",
       "</tr>\n",
       "<tr>\n",
       "  <th>Lead Source_Reference</th>                                <td>    0.3628</td> <td>    0.498</td> <td>    0.728</td> <td> 0.467</td> <td>   -0.614</td> <td>    1.340</td>\n",
       "</tr>\n",
       "<tr>\n",
       "  <th>Lead Source_Welingak Website</th>                         <td>    2.4259</td> <td>    0.853</td> <td>    2.843</td> <td> 0.004</td> <td>    0.754</td> <td>    4.098</td>\n",
       "</tr>\n",
       "<tr>\n",
       "  <th>What is your current occupation_Other</th>                <td>   -0.6989</td> <td>    0.766</td> <td>   -0.912</td> <td> 0.362</td> <td>   -2.200</td> <td>    0.802</td>\n",
       "</tr>\n",
       "<tr>\n",
       "  <th>What is your current occupation_Unknown</th>              <td>   -1.2521</td> <td>    0.082</td> <td>  -15.211</td> <td> 0.000</td> <td>   -1.413</td> <td>   -1.091</td>\n",
       "</tr>\n",
       "<tr>\n",
       "  <th>What is your current occupation_Working Professional</th> <td>    2.5301</td> <td>    0.180</td> <td>   14.045</td> <td> 0.000</td> <td>    2.177</td> <td>    2.883</td>\n",
       "</tr>\n",
       "</table>"
      ],
      "text/plain": [
       "<class 'statsmodels.iolib.summary.Summary'>\n",
       "\"\"\"\n",
       "                 Generalized Linear Model Regression Results                  \n",
       "==============================================================================\n",
       "Dep. Variable:              Converted   No. Observations:                 6468\n",
       "Model:                            GLM   Df Residuals:                     6457\n",
       "Model Family:                Binomial   Df Model:                           10\n",
       "Link Function:                  Logit   Scale:                          1.0000\n",
       "Method:                          IRLS   Log-Likelihood:                -2901.1\n",
       "Date:                Wed, 12 Oct 2022   Deviance:                       5802.1\n",
       "Time:                        17:04:34   Pearson chi2:                 7.40e+03\n",
       "No. Iterations:                     7   Pseudo R-squ. (CS):             0.3510\n",
       "Covariance Type:            nonrobust                                         \n",
       "========================================================================================================================\n",
       "                                                           coef    std err          z      P>|z|      [0.025      0.975]\n",
       "------------------------------------------------------------------------------------------------------------------------\n",
       "const                                                   -0.7687      0.044    -17.372      0.000      -0.855      -0.682\n",
       "Do Not Email                                            -1.3281      0.159     -8.329      0.000      -1.641      -1.016\n",
       "Total Time Spent on Website                              1.0967      0.038     28.859      0.000       1.022       1.171\n",
       "Lead Origin_Lead Add Form                                3.1701      0.465      6.815      0.000       2.258       4.082\n",
       "Lead Source_Olark Chat                                   0.9663      0.095     10.214      0.000       0.781       1.152\n",
       "Lead Source_Others                                       0.3656      0.624      0.586      0.558      -0.857       1.589\n",
       "Lead Source_Reference                                    0.3628      0.498      0.728      0.467      -0.614       1.340\n",
       "Lead Source_Welingak Website                             2.4259      0.853      2.843      0.004       0.754       4.098\n",
       "What is your current occupation_Other                   -0.6989      0.766     -0.912      0.362      -2.200       0.802\n",
       "What is your current occupation_Unknown                 -1.2521      0.082    -15.211      0.000      -1.413      -1.091\n",
       "What is your current occupation_Working Professional     2.5301      0.180     14.045      0.000       2.177       2.883\n",
       "========================================================================================================================\n",
       "\"\"\""
      ]
     },
     "execution_count": 154,
     "metadata": {},
     "output_type": "execute_result"
    }
   ],
   "source": [
    "features.remove('What is your current occupation_Housewife') # Remove 'What is your current occupation_Housewife number' from RFE features list\n",
    "log_model2, X_train_sm2 = build_logistic_model(features) # Call the function and get the model and the X_train_sm for prediction\n",
    "log_model2.summary()"
   ]
  },
  {
   "cell_type": "code",
   "execution_count": 155,
   "id": "44336ba9",
   "metadata": {},
   "outputs": [
    {
     "data": {
      "text/html": [
       "<div>\n",
       "<style scoped>\n",
       "    .dataframe tbody tr th:only-of-type {\n",
       "        vertical-align: middle;\n",
       "    }\n",
       "\n",
       "    .dataframe tbody tr th {\n",
       "        vertical-align: top;\n",
       "    }\n",
       "\n",
       "    .dataframe thead th {\n",
       "        text-align: right;\n",
       "    }\n",
       "</style>\n",
       "<table border=\"1\" class=\"dataframe\">\n",
       "  <thead>\n",
       "    <tr style=\"text-align: right;\">\n",
       "      <th></th>\n",
       "      <th>Features</th>\n",
       "      <th>VIF</th>\n",
       "    </tr>\n",
       "  </thead>\n",
       "  <tbody>\n",
       "    <tr>\n",
       "      <th>2</th>\n",
       "      <td>Lead Origin_Lead Add Form</td>\n",
       "      <td>16.37</td>\n",
       "    </tr>\n",
       "    <tr>\n",
       "      <th>5</th>\n",
       "      <td>Lead Source_Reference</td>\n",
       "      <td>13.46</td>\n",
       "    </tr>\n",
       "    <tr>\n",
       "      <th>6</th>\n",
       "      <td>Lead Source_Welingak Website</td>\n",
       "      <td>3.89</td>\n",
       "    </tr>\n",
       "    <tr>\n",
       "      <th>3</th>\n",
       "      <td>Lead Source_Olark Chat</td>\n",
       "      <td>1.34</td>\n",
       "    </tr>\n",
       "    <tr>\n",
       "      <th>8</th>\n",
       "      <td>What is your current occupation_Unknown</td>\n",
       "      <td>1.24</td>\n",
       "    </tr>\n",
       "    <tr>\n",
       "      <th>1</th>\n",
       "      <td>Total Time Spent on Website</td>\n",
       "      <td>1.18</td>\n",
       "    </tr>\n",
       "    <tr>\n",
       "      <th>9</th>\n",
       "      <td>What is your current occupation_Working Profes...</td>\n",
       "      <td>1.13</td>\n",
       "    </tr>\n",
       "    <tr>\n",
       "      <th>0</th>\n",
       "      <td>Do Not Email</td>\n",
       "      <td>1.05</td>\n",
       "    </tr>\n",
       "    <tr>\n",
       "      <th>4</th>\n",
       "      <td>Lead Source_Others</td>\n",
       "      <td>1.05</td>\n",
       "    </tr>\n",
       "    <tr>\n",
       "      <th>7</th>\n",
       "      <td>What is your current occupation_Other</td>\n",
       "      <td>1.00</td>\n",
       "    </tr>\n",
       "  </tbody>\n",
       "</table>\n",
       "</div>"
      ],
      "text/plain": [
       "                                            Features    VIF\n",
       "2                          Lead Origin_Lead Add Form  16.37\n",
       "5                              Lead Source_Reference  13.46\n",
       "6                       Lead Source_Welingak Website   3.89\n",
       "3                             Lead Source_Olark Chat   1.34\n",
       "8            What is your current occupation_Unknown   1.24\n",
       "1                        Total Time Spent on Website   1.18\n",
       "9  What is your current occupation_Working Profes...   1.13\n",
       "0                                       Do Not Email   1.05\n",
       "4                                 Lead Source_Others   1.05\n",
       "7              What is your current occupation_Other   1.00"
      ]
     },
     "execution_count": 155,
     "metadata": {},
     "output_type": "execute_result"
    }
   ],
   "source": [
    "#Checking VIF Values\n",
    "calculate_VIF(X_train[features])"
   ]
  },
  {
   "cell_type": "markdown",
   "id": "6d2c0346",
   "metadata": {},
   "source": [
    "### Model 3"
   ]
  },
  {
   "cell_type": "markdown",
   "id": "34457ed0",
   "metadata": {},
   "source": [
    "#### We will remove 'Lead Source_Referral Sites' feature due to high P-value of 0.432"
   ]
  },
  {
   "cell_type": "code",
   "execution_count": 156,
   "id": "8cdd52af",
   "metadata": {},
   "outputs": [
    {
     "ename": "ValueError",
     "evalue": "list.remove(x): x not in list",
     "output_type": "error",
     "traceback": [
      "\u001b[1;31m---------------------------------------------------------------------------\u001b[0m",
      "\u001b[1;31mValueError\u001b[0m                                Traceback (most recent call last)",
      "Input \u001b[1;32mIn [156]\u001b[0m, in \u001b[0;36m<cell line: 1>\u001b[1;34m()\u001b[0m\n\u001b[1;32m----> 1\u001b[0m \u001b[43mfeatures\u001b[49m\u001b[38;5;241;43m.\u001b[39;49m\u001b[43mremove\u001b[49m\u001b[43m(\u001b[49m\u001b[38;5;124;43m'\u001b[39;49m\u001b[38;5;124;43mLead Source_Referral Sites\u001b[39;49m\u001b[38;5;124;43m'\u001b[39;49m\u001b[43m)\u001b[49m\n\u001b[0;32m      2\u001b[0m log_model3, X_train_sm3 \u001b[38;5;241m=\u001b[39m build_logistic_model(features) \u001b[38;5;66;03m# Call the function and get the model and the X_train_sm for prediction\u001b[39;00m\n\u001b[0;32m      3\u001b[0m log_model3\u001b[38;5;241m.\u001b[39msummary()\n",
      "\u001b[1;31mValueError\u001b[0m: list.remove(x): x not in list"
     ]
    }
   ],
   "source": [
    "features.remove('Lead Source_Referral Sites')\n",
    "log_model3, X_train_sm3 = build_logistic_model(features) # Call the function and get the model and the X_train_sm for prediction\n",
    "log_model3.summary()"
   ]
  },
  {
   "cell_type": "code",
   "execution_count": null,
   "id": "aeb6b511",
   "metadata": {},
   "outputs": [],
   "source": [
    "#Checking VIF Values\n",
    "calculate_VIF(X_train[features])"
   ]
  },
  {
   "cell_type": "markdown",
   "id": "019a234f",
   "metadata": {},
   "source": [
    "### Model 4 "
   ]
  },
  {
   "cell_type": "markdown",
   "id": "9cdd2a95",
   "metadata": {},
   "source": [
    "#### We will remove 'Lead Source_Others\t' feature due to high P-value of 0.390"
   ]
  },
  {
   "cell_type": "code",
   "execution_count": null,
   "id": "eff71ba1",
   "metadata": {},
   "outputs": [],
   "source": [
    "features.remove('Lead Source_Others')\n",
    "log_model4, X_train_sm4 = build_logistic_model(features) # Call the function and get the model and the X_train_sm for prediction\n",
    "log_model4.summary()"
   ]
  },
  {
   "cell_type": "code",
   "execution_count": null,
   "id": "3d5f4a0a",
   "metadata": {},
   "outputs": [],
   "source": [
    "#Checking VIF Values\n",
    "calculate_VIF(X_train[features])"
   ]
  },
  {
   "cell_type": "markdown",
   "id": "42b4832e",
   "metadata": {},
   "source": [
    "### Model 5"
   ]
  },
  {
   "cell_type": "markdown",
   "id": "2e4f102c",
   "metadata": {},
   "source": [
    "#### We will remove 'Lead Source_Reference ' feature due to high P-value of 0.248"
   ]
  },
  {
   "cell_type": "code",
   "execution_count": null,
   "id": "7717e522",
   "metadata": {},
   "outputs": [],
   "source": [
    "features.remove('Lead Source_Reference')\n",
    "log_model5, X_train_sm5 = build_logistic_model(features) # Call the function and get the model and the X_train_sm for prediction\n",
    "log_model5.summary()"
   ]
  },
  {
   "cell_type": "code",
   "execution_count": null,
   "id": "c3547587",
   "metadata": {},
   "outputs": [],
   "source": [
    "#Checking VIF Values\n",
    "calculate_VIF(X_train[features])"
   ]
  },
  {
   "cell_type": "markdown",
   "id": "5d1d1f84",
   "metadata": {},
   "source": [
    "### Model 6 "
   ]
  },
  {
   "cell_type": "markdown",
   "id": "fcb6f016",
   "metadata": {},
   "source": [
    "#### We will remove 'What is your current occupation_Working Professional' feature due to high P-value of 0.089"
   ]
  },
  {
   "cell_type": "code",
   "execution_count": null,
   "id": "f9a796d7",
   "metadata": {},
   "outputs": [],
   "source": [
    "features.remove('What is your current occupation_Working Professional')\n",
    "log_model6, X_train_sm6 = build_logistic_model(features) # Call the function and get the model and the X_train_sm for prediction\n",
    "log_model6.summary()"
   ]
  },
  {
   "cell_type": "code",
   "execution_count": null,
   "id": "ebe24c7b",
   "metadata": {},
   "outputs": [],
   "source": [
    "#Checking VIF Values\n",
    "calculate_VIF(X_train[features])"
   ]
  },
  {
   "cell_type": "markdown",
   "id": "626254f2",
   "metadata": {},
   "source": [
    "## Step 10. Model Evaluation : Train Dataset"
   ]
  },
  {
   "cell_type": "code",
   "execution_count": null,
   "id": "8fec8be1",
   "metadata": {},
   "outputs": [],
   "source": [
    "# Create a matrix to Print the Accuracy, Sensitivity and Specificity\n",
    "def lg_metrics(confusion_matrix):\n",
    "    TN =confusion_matrix[0,0]\n",
    "    TP =confusion_matrix[1,1]\n",
    "    FP =confusion_matrix[0,1]\n",
    "    FN =confusion_matrix[1,0]\n",
    "    accuracy = (TP+TN)/(TP+TN+FP+FN)\n",
    "    speci = TN/(TN+FP)\n",
    "    sensi = TP/(TP+FN)\n",
    "    precision = TP/(TP+FP)\n",
    "    recall = TP/(TP+FN)\n",
    "    TPR = TP/(TP + FN)\n",
    "    TNR = TN/(TN + FP)\n",
    "    FPR = FP/(TN + FP)\n",
    "    FNR = FN/(TP + FN)\n",
    "    pos_pred_val = TP /(TP+FP)\n",
    "    neg_pred_val = TN /(TN+FN)\n",
    "    \n",
    "    print (\"Model Accuracy value is              : \", round(accuracy*100,2),\"%\")\n",
    "    print (\"Model Sensitivity value is           : \", round(sensi*100,2),\"%\")\n",
    "    print (\"Model Specificity value is           : \", round(speci*100,2),\"%\")\n",
    "    print (\"Model Precision value is             : \", round(precision*100,2),\"%\")\n",
    "    print (\"Model Recall value is                : \", round(recall*100,2),\"%\")\n",
    "    print (\"Model True Positive Rate (TPR)       : \", round(TPR*100,2),\"%\")\n",
    "    print (\"Model False Positive Rate (FPR)      : \", round(FPR*100,2),\"%\")\n",
    "    print (\"Model Poitive Prediction Value is    : \", round(pos_pred_val*100,2),\"%\")\n",
    "    print (\"Model Negative Prediction value is   : \", round(neg_pred_val*100,2),\"%\")"
   ]
  },
  {
   "cell_type": "markdown",
   "id": "c3606947",
   "metadata": {},
   "source": [
    "### Predicted Probability Calculation"
   ]
  },
  {
   "cell_type": "code",
   "execution_count": null,
   "id": "b30b0cf9",
   "metadata": {},
   "outputs": [],
   "source": [
    "# Getting the predicted values on the train set\n",
    "y_train_pred =log_model6.predict( X_train_sm6)\n",
    "y_train_pred[:10]"
   ]
  },
  {
   "cell_type": "code",
   "execution_count": null,
   "id": "d8651787",
   "metadata": {},
   "outputs": [],
   "source": [
    "y_train_pred = y_train_pred.values.reshape(-1)\n",
    "y_train_pred[:10]"
   ]
  },
  {
   "cell_type": "code",
   "execution_count": null,
   "id": "06d9e02c",
   "metadata": {},
   "outputs": [],
   "source": [
    "# Creating a dataframe with the actual Converted flag and the Predicted probabilities\n",
    "y_train_pred_final = pd.DataFrame({'Converted_Value':y_train.values, 'Converted_Prob':y_train_pred})\n",
    "y_train_pred_final.head()"
   ]
  },
  {
   "cell_type": "code",
   "execution_count": null,
   "id": "ccdb22b4",
   "metadata": {},
   "outputs": [],
   "source": [
    "#Finding Optimal Cutoff Point\n",
    "# Let's create columns with different probability cutoffs \n",
    "numbers = [float(x)/10 for x in range(10)]\n",
    "for i in numbers:\n",
    "    y_train_pred_final[i]= y_train_pred_final.Converted_Prob.map(lambda x: 1 if x > i else 0)\n",
    "y_train_pred_final"
   ]
  },
  {
   "cell_type": "code",
   "execution_count": null,
   "id": "62e5b3c7",
   "metadata": {},
   "outputs": [],
   "source": [
    "# Now let's calculate accuracy sensitivity and specificity for various probability cutoffs.\n",
    "cutoff_df = pd.DataFrame( columns = ['prob','accuracy','sensi','speci','Precision','Recall'])\n",
    "from sklearn.metrics import confusion_matrix\n",
    "\n",
    "num = [0.0,0.1,0.2,0.3,0.4,0.5,0.6,0.7,0.8,0.9]\n",
    "for i in num:\n",
    "    cm1 = metrics.confusion_matrix(y_train_pred_final['Converted_Value'], y_train_pred_final[i] )\n",
    "    total1=sum(sum(cm1))\n",
    "    accuracy = (cm1[0,0]+cm1[1,1])/total1\n",
    "    \n",
    "    speci = cm1[0,0]/(cm1[0,0]+cm1[0,1])\n",
    "    sensi = cm1[1,1]/(cm1[1,0]+cm1[1,1])\n",
    "    prec, rec, thresholds = precision_recall_curve(y_train_pred_final['Converted_Value'], y_train_pred_final[i])\n",
    "    cutoff_df.loc[i] =[ i ,accuracy,sensi,speci, prec[1], rec[1]]\n",
    "cutoff_df"
   ]
  },
  {
   "cell_type": "code",
   "execution_count": null,
   "id": "26b948d5",
   "metadata": {},
   "outputs": [],
   "source": [
    "# Let's plot accuracy sensitivity and specificity for various probabilities.\n",
    "plt.figure(figsize=(18,8))\n",
    "sns.set_style(\"whitegrid\")\n",
    "cutoff_df.plot.line(x='prob', y=['accuracy','sensi','speci'])\n",
    "plt.xticks(np.arange(0,1,step=0.05),size=8)\n",
    "plt.axvline(x=0.317, color='r', linestyle='--') # additing axline\n",
    "plt.yticks(size=12)\n",
    "plt.show()"
   ]
  },
  {
   "cell_type": "code",
   "execution_count": null,
   "id": "3f708ed2",
   "metadata": {},
   "outputs": [],
   "source": [
    "y_train_pred_final['final_predicted_1'] = y_train_pred_final['Converted_Prob'].map( lambda x: 1 if x > 0.317 else 0)\n",
    "y_train_pred_final.drop([0.0,0.1,0.2,0.3,0.4,0.5,0.6,0.7,0.8,0.9],axis = 1, inplace = True) # deleting the unnecessary columns\n",
    "y_train_pred_final.head()"
   ]
  },
  {
   "cell_type": "code",
   "execution_count": null,
   "id": "337654c1",
   "metadata": {},
   "outputs": [],
   "source": [
    "# Let's assign Lead_score for the leads in Train Data Set\n",
    "y_train_pred_final['lead_score_1']=(y_train_pred_final['Converted_Prob']*100).astype(\"int64\")\n",
    "y_train_pred_final.sort_values(by='Converted_Prob',ascending=False)"
   ]
  },
  {
   "cell_type": "markdown",
   "id": "78a67c0e",
   "metadata": {},
   "source": [
    "### Confusion Matrix"
   ]
  },
  {
   "cell_type": "code",
   "execution_count": null,
   "id": "e6800630",
   "metadata": {},
   "outputs": [],
   "source": [
    "# Function for Confusion Matrix :\n",
    "def draw_cm( actual, predicted, cmap ): \n",
    "    cm = metrics.confusion_matrix( actual, predicted, [0,1] ) \n",
    "    sns.heatmap(cm, annot=True, fmt='.0f', cmap=cmap,\n",
    "    xticklabels = [\"Not Converted\", \"Converted\"] ,\n",
    "    yticklabels = [\"Not Converted\", \"Converted\"] ) \n",
    "    plt.ylabel('True labels')\n",
    "    plt.xlabel('Predicted labels') \n",
    "    plt.show()"
   ]
  },
  {
   "cell_type": "code",
   "execution_count": null,
   "id": "b99065e6",
   "metadata": {},
   "outputs": [],
   "source": [
    "#Plotting the Confusion Matrix\n",
    "draw_cm( y_train_pred_final['Converted_Value'], y_train_pred_final['final_predicted_1'], \"GnBu\")"
   ]
  },
  {
   "cell_type": "code",
   "execution_count": null,
   "id": "1832142e",
   "metadata": {},
   "outputs": [],
   "source": [
    "conf_matrix = confusion_matrix(y_train_pred_final['Converted_Value'], y_train_pred_final['final_predicted_1'] )\n",
    "\n",
    "lg_metrics(conf_matrix)"
   ]
  },
  {
   "cell_type": "code",
   "execution_count": null,
   "id": "7eef60fd",
   "metadata": {},
   "outputs": [],
   "source": [
    "# Classification Record : Precision, Recall and F1 Score\n",
    "print( metrics.classification_report( y_train_pred_final['Converted_Value'], y_train_pred_final['final_predicted_1'] ) )"
   ]
  },
  {
   "cell_type": "markdown",
   "id": "b38a1507",
   "metadata": {},
   "source": [
    "#### Inference\n",
    "Model 6 provides an accuracy 78.26%, Sensitivity 81.67%. More than 80% is what the CEO has requested in this case study."
   ]
  },
  {
   "cell_type": "markdown",
   "id": "be4194b4",
   "metadata": {},
   "source": [
    "### ROC Curve"
   ]
  },
  {
   "cell_type": "code",
   "execution_count": null,
   "id": "1cb18ab7",
   "metadata": {},
   "outputs": [],
   "source": [
    "# Function to plot ROC Curve\n",
    "def draw_roc( actual, probs ):\n",
    "    fpr, tpr, thresholds = metrics.roc_curve( actual, probs,\n",
    "                                              drop_intermediate = False )\n",
    "    auc_score = metrics.roc_auc_score( actual, probs )\n",
    "    plt.figure(figsize=(5, 5))\n",
    "    plt.plot( fpr, tpr, label='ROC curve (area = %0.2f)' % auc_score )\n",
    "    plt.plot([0, 1], [0, 1], 'k--')\n",
    "    plt.xlim([0.0, 1.0])\n",
    "    plt.ylim([0.0, 1.05])\n",
    "    plt.xlabel('False Positive Rate or [1 - True Negative Rate]')\n",
    "    plt.ylabel('True Positive Rate')\n",
    "    plt.title('Receiver operating characteristic example')\n",
    "    plt.legend(loc=\"lower right\")\n",
    "    plt.show()\n",
    "\n",
    "    return None"
   ]
  },
  {
   "cell_type": "code",
   "execution_count": null,
   "id": "b0cf9f43",
   "metadata": {},
   "outputs": [],
   "source": [
    "# recoring the values FPR, TPR and Thresholds:\n",
    "fpr, tpr, thresholds = metrics.roc_curve( y_train_pred_final['Converted_Value'], y_train_pred_final['Converted_Prob'] , drop_intermediate = False )"
   ]
  },
  {
   "cell_type": "code",
   "execution_count": null,
   "id": "10906b6f",
   "metadata": {},
   "outputs": [],
   "source": [
    "#plotting the ROC curve \n",
    "draw_roc(y_train_pred_final['Converted_Value'], y_train_pred_final['Converted_Prob'])"
   ]
  },
  {
   "cell_type": "markdown",
   "id": "312e2d0c",
   "metadata": {},
   "source": [
    "#### Inference \n",
    "ROC curve area is 0.86, which indicates that the model is good."
   ]
  },
  {
   "cell_type": "markdown",
   "id": "b99ec544",
   "metadata": {},
   "source": [
    "### Precision - Recall Trade off"
   ]
  },
  {
   "cell_type": "markdown",
   "id": "2cfa8f38",
   "metadata": {},
   "source": [
    "#### \n",
    "Next we will look into Precision- Recall trade off to see if balancing these values provides better output.\n",
    "Precision means out of all leads which are predicted at 1, how many have truly converted.\n",
    "Recall means out of all leads that have converted, how many of them were correctly identifies as 1. This is the same value as sensitivity.\n",
    "\n",
    "Precision-Recall trade-off point is used to decide the cut-off point especially when there is huge imbalance in data. In our case the data distribution is 62% vs 38%. So imbalance of data is not a big factor."
   ]
  },
  {
   "cell_type": "code",
   "execution_count": null,
   "id": "d0bbcdc4",
   "metadata": {},
   "outputs": [],
   "source": [
    "p, r, thresholds = precision_recall_curve(y_train_pred_final['Converted_Value'], y_train_pred_final['Converted_Prob'])"
   ]
  },
  {
   "cell_type": "code",
   "execution_count": null,
   "id": "81bb3f47",
   "metadata": {},
   "outputs": [],
   "source": [
    "# Plotting the Precision-Recall Trade off Curve\n",
    "plt.figure(figsize=(15,8))\n",
    "sns.set_style(\"darkgrid\")\n",
    "sns.set_context(\"paper\")\n",
    "plt.plot(thresholds, p[:-1], \"g-\")\n",
    "plt.plot(thresholds, r[:-1], \"r-\")\n",
    "plt.axvline(x=0.317, color='b', linestyle='--') # additing axline\n",
    "plt.xticks(np.arange(0,1,step=0.02),size=8)\n",
    "plt.yticks(size=12)\n",
    "\n",
    "plt.show()"
   ]
  },
  {
   "cell_type": "code",
   "execution_count": null,
   "id": "a673aa00",
   "metadata": {},
   "outputs": [],
   "source": [
    "# plotting the Train dataset again with 0.317 as cutoff\n",
    "y_train_pred_final['final_predicted_2'] = y_train_pred_final['Converted_Prob'].map( lambda x: 1 if x > 0.317 else 0)\n",
    "y_train_pred_final.head()"
   ]
  },
  {
   "cell_type": "code",
   "execution_count": null,
   "id": "ccb3b1fe",
   "metadata": {},
   "outputs": [],
   "source": [
    "#Plotting the Confusion Matrix\n",
    "draw_cm( y_train_pred_final['Converted_Value'], y_train_pred_final['final_predicted_2'], \"GnBu\")"
   ]
  },
  {
   "cell_type": "code",
   "execution_count": null,
   "id": "b049ef4e",
   "metadata": {},
   "outputs": [],
   "source": [
    "#Data based on cutoff received from Precision-Recall Trade off\n",
    "conf_matrix = confusion_matrix(y_train_pred_final['Converted_Value'], y_train_pred_final['final_predicted_2'] )\n",
    "lg_metrics(conf_matrix)"
   ]
  },
  {
   "cell_type": "code",
   "execution_count": null,
   "id": "3b953b5c",
   "metadata": {},
   "outputs": [],
   "source": [
    "# Classification Record : Precision, Recall and F1 Score\n",
    "print( metrics.classification_report( y_train_pred_final['Converted_Value'], y_train_pred_final['final_predicted_2'] ) )"
   ]
  },
  {
   "cell_type": "markdown",
   "id": "e67ec982",
   "metadata": {},
   "source": [
    "## Step 11. Model Evalution : Test Dataset "
   ]
  },
  {
   "cell_type": "code",
   "execution_count": null,
   "id": "12d95a82",
   "metadata": {},
   "outputs": [],
   "source": [
    "# Scaling the test dataset :\n",
    "X_test[['Total Time Spent on Website','Page Views Per Visit','TotalVisits']] = scaler.transform(X_test[['Total Time Spent on Website','Page Views Per Visit','TotalVisits']])\n",
    "X_test.head()"
   ]
  },
  {
   "cell_type": "code",
   "execution_count": null,
   "id": "dd4a171f",
   "metadata": {},
   "outputs": [],
   "source": [
    "# Selecting only the columns used in final model of Train Dataset\n",
    "X_test = X_test[features]\n",
    "X_test.head()"
   ]
  },
  {
   "cell_type": "code",
   "execution_count": null,
   "id": "4e03eb1e",
   "metadata": {},
   "outputs": [],
   "source": [
    "#adding contant value\n",
    "X_test_sm = sm.add_constant(X_test)\n",
    "X_test_sm.columns"
   ]
  },
  {
   "cell_type": "code",
   "execution_count": null,
   "id": "e2253599",
   "metadata": {},
   "outputs": [],
   "source": [
    "# Predicting the final test model \n",
    "y_test_pred = log_model6.predict(X_test_sm)"
   ]
  },
  {
   "cell_type": "code",
   "execution_count": null,
   "id": "4959c69a",
   "metadata": {},
   "outputs": [],
   "source": [
    "#checking the top 10 rows\n",
    "y_test_pred[:10]"
   ]
  },
  {
   "cell_type": "code",
   "execution_count": null,
   "id": "04c38e65",
   "metadata": {},
   "outputs": [],
   "source": [
    "# Converting y_pred to a dataframe which is an array\n",
    "y_test_pred = pd.DataFrame(y_test_pred)\n",
    "y_test_pred.head()"
   ]
  },
  {
   "cell_type": "code",
   "execution_count": null,
   "id": "598244b3",
   "metadata": {},
   "outputs": [],
   "source": [
    "# Converting y_test to dataframe\n",
    "y_test_df = pd.DataFrame(y_test)\n",
    "y_test_df.head()"
   ]
  },
  {
   "cell_type": "code",
   "execution_count": null,
   "id": "16167be7",
   "metadata": {},
   "outputs": [],
   "source": [
    "# Removing index for both dataframes to append them side by side \n",
    "y_test_pred.reset_index(drop=True, inplace=True)\n",
    "y_test_df.reset_index(drop=True, inplace=True)\n",
    "\n",
    "# Appending y_test_df and y_pred_1\n",
    "y_pred_final = pd.concat([y_test_df, y_test_pred],axis=1)\n",
    "y_pred_final.head()"
   ]
  },
  {
   "cell_type": "code",
   "execution_count": null,
   "id": "d0dbcee8",
   "metadata": {},
   "outputs": [],
   "source": [
    "# Renaming the column \n",
    "y_pred_final= y_pred_final.rename(columns={ 0 : 'Converted_Prob'})\n",
    "y_pred_final= y_pred_final.rename(columns={ 'Converted' : 'Converted_Value'})\n",
    "\n",
    "# Rearranging the columns\n",
    "y_pred_final = y_pred_final.reindex(['Converted_Value','Converted_Prob'], axis=1)\n",
    "y_pred_final.head()"
   ]
  },
  {
   "cell_type": "code",
   "execution_count": null,
   "id": "acaf5b95",
   "metadata": {},
   "outputs": [],
   "source": [
    "y_pred_final['final_predicted'] = y_pred_final.Converted_Prob.map(lambda x: 1 if x > 0.317 else 0)\n",
    "y_pred_final.head()"
   ]
  },
  {
   "cell_type": "code",
   "execution_count": null,
   "id": "ba630363",
   "metadata": {},
   "outputs": [],
   "source": [
    "#Plotting the Confusion Matrix\n",
    "draw_cm( y_pred_final['Converted_Value'], y_pred_final['final_predicted'], \"GnBu\")"
   ]
  },
  {
   "cell_type": "code",
   "execution_count": null,
   "id": "6998af27",
   "metadata": {},
   "outputs": [],
   "source": [
    "conf_matrix = confusion_matrix(y_pred_final['Converted_Value'], y_pred_final['final_predicted'])\n",
    "\n",
    "lg_metrics(conf_matrix)"
   ]
  },
  {
   "cell_type": "markdown",
   "id": "020ba990",
   "metadata": {},
   "source": [
    "#### Inference\n",
    "The Sensitivity value on Test data is 83.2% vs 81.67% in Train data. The accuracy values is 78.72%. It shows that model is performing well in test data set also and is not over-trained."
   ]
  },
  {
   "cell_type": "code",
   "execution_count": null,
   "id": "9fbd2ce7",
   "metadata": {},
   "outputs": [],
   "source": [
    "# Invoking the functio to draw ROC curve\n",
    "\n",
    "draw_roc( y_pred_final['Converted_Value'], y_pred_final['Converted_Prob'])"
   ]
  },
  {
   "cell_type": "markdown",
   "id": "919dc98a",
   "metadata": {},
   "source": [
    "#### Inference\n",
    "ROC value of 0.86 shows the model is performing well in Test dataset."
   ]
  },
  {
   "cell_type": "code",
   "execution_count": null,
   "id": "00a511db",
   "metadata": {},
   "outputs": [],
   "source": [
    "# Classification Record : Precision, Recall and F1 Score\n",
    "print( metrics.classification_report( y_pred_final['Converted_Value'], y_pred_final['final_predicted'] ) )"
   ]
  },
  {
   "cell_type": "code",
   "execution_count": null,
   "id": "623cb649",
   "metadata": {},
   "outputs": [],
   "source": [
    "# checking the data from top \n",
    "y_pred_final.head(5)"
   ]
  },
  {
   "cell_type": "code",
   "execution_count": null,
   "id": "c0851754",
   "metadata": {},
   "outputs": [],
   "source": [
    "# checking the data from bottom \n",
    "y_pred_final.tail(5)"
   ]
  },
  {
   "cell_type": "markdown",
   "id": "664de94c",
   "metadata": {},
   "source": [
    "## Step 12. Conclusion"
   ]
  },
  {
   "cell_type": "code",
   "execution_count": null,
   "id": "02205494",
   "metadata": {},
   "outputs": [],
   "source": [
    "# Let's look into final model features and coefficients \n",
    "pd.options.display.float_format = '{:.2f}'.format\n",
    "final_parameters = log_model6.params[1:]\n",
    "final_parameters"
   ]
  },
  {
   "cell_type": "code",
   "execution_count": null,
   "id": "6d8909e4",
   "metadata": {},
   "outputs": [],
   "source": [
    "#Getting a relative coeffient value for all the features wrt the feature with the highest coefficient\n",
    "\n",
    "top_predictors = final_parameters\n",
    "top_predictors = 100.0 * (top_predictors / top_predictors.max())\n",
    "top_predictors.sort_values()"
   ]
  },
  {
   "cell_type": "markdown",
   "id": "1fcd70f9",
   "metadata": {},
   "source": [
    "#### Major indicators that a lead will get converted to a hot lead:\n",
    "\n",
    "Lead Origin_Lead Add Form : A lead sourced from Lead Origin_Lead Add Form is more likely to get converted\n",
    "\n",
    "Lead_Source_Welingak website : A lead sourced from Welingak Website is more likely to get converted.\n",
    "\n",
    "Lead Source_Olark Chat :A lead sourced from Olark Chat is more likely to get converted\n",
    "\n",
    "#### Major indicators that a lead will NOT get converted to a hot lead:\n",
    "What is your current occupation_Unknown are less likely to get converted into hot leads.\n",
    "\n",
    "What is your current occupation_Other are less likely to get converted into hot leads .\n",
    "\n",
    "What is your current occupation_Student are less likely to get converted into hot leads .\n",
    "\n",
    "Recommendations:\n",
    "The company should use a leads score threshold of 38 to identify \"Hot Leads\" as at this threshold, Sensitivity Score of the model is around 80% which is as good as CEO's target of 80%."
   ]
  },
  {
   "cell_type": "code",
   "execution_count": null,
   "id": "a4da51ff",
   "metadata": {},
   "outputs": [],
   "source": []
  }
 ],
 "metadata": {
  "kernelspec": {
   "display_name": "Python 3.10.7 64-bit",
   "language": "python",
   "name": "python3"
  },
  "language_info": {
   "codemirror_mode": {
    "name": "ipython",
    "version": 3
   },
   "file_extension": ".py",
   "mimetype": "text/x-python",
   "name": "python",
   "nbconvert_exporter": "python",
   "pygments_lexer": "ipython3",
   "version": "3.10.7"
  },
  "vscode": {
   "interpreter": {
    "hash": "369f2c481f4da34e4445cda3fffd2e751bd1c4d706f27375911949ba6bb62e1c"
   }
  }
 },
 "nbformat": 4,
 "nbformat_minor": 5
}
